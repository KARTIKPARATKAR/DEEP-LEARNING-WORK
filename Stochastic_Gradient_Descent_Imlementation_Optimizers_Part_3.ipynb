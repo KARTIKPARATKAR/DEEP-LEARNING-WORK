{
  "nbformat": 4,
  "nbformat_minor": 0,
  "metadata": {
    "colab": {
      "provenance": [],
      "gpuType": "T4",
      "include_colab_link": true
    },
    "kernelspec": {
      "name": "python3",
      "display_name": "Python 3"
    },
    "language_info": {
      "name": "python"
    },
    "accelerator": "GPU"
  },
  "cells": [
    {
      "cell_type": "markdown",
      "metadata": {
        "id": "view-in-github",
        "colab_type": "text"
      },
      "source": [
        "<a href=\"https://colab.research.google.com/github/KARTIKPARATKAR/DEEP-LEARNING-WORK/blob/main/Stochastic_Gradient_Descent_Imlementation_Optimizers_Part_3.ipynb\" target=\"_parent\"><img src=\"https://colab.research.google.com/assets/colab-badge.svg\" alt=\"Open In Colab\"/></a>"
      ]
    },
    {
      "cell_type": "markdown",
      "source": [
        "**We will try to implement Stochastic Gradient Descent , Momentum Stochastic Gradient Descent and Nagarov Accelerated Gradient Descent in Keras on Cifer-10 Dataset-**"
      ],
      "metadata": {
        "id": "ylup-afGPFyX"
      }
    },
    {
      "cell_type": "markdown",
      "source": [
        "**CIFER-10 Dataset-**\n",
        "\n",
        "It is a image dataset which includes 60000 total images. IMage size is 32 * 32 pixel. There are 10 number of classes which means each image belongs to one of the class."
      ],
      "metadata": {
        "id": "wxsJY-K5Qcrf"
      }
    },
    {
      "cell_type": "code",
      "source": [
        "#importing the dependencies\n",
        "import tensorflow as tf\n",
        "from tensorflow.keras.datasets import cifar10\n",
        "from tensorflow.keras.models import Sequential\n",
        "from tensorflow.keras.layers import Dense, Flatten, Dropout\n",
        "from tensorflow.keras.optimizers import SGD\n",
        "from tensorflow.keras.utils import to_categorical"
      ],
      "metadata": {
        "id": "fnWIM6kLRUNN"
      },
      "execution_count": 28,
      "outputs": []
    },
    {
      "cell_type": "code",
      "source": [
        "#Loading the dataset\n",
        "(x_train,y_train),(x_test,y_test) = cifar10.load_data()"
      ],
      "metadata": {
        "id": "0zvWSTJZSCBs"
      },
      "execution_count": 29,
      "outputs": []
    },
    {
      "cell_type": "code",
      "source": [
        "x_test"
      ],
      "metadata": {
        "colab": {
          "base_uri": "https://localhost:8080/"
        },
        "id": "NU-IvL-wTASL",
        "outputId": "981250dd-2597-4e1b-b875-5023cb24bb84"
      },
      "execution_count": 30,
      "outputs": [
        {
          "output_type": "execute_result",
          "data": {
            "text/plain": [
              "array([[[[158, 112,  49],\n",
              "         [159, 111,  47],\n",
              "         [165, 116,  51],\n",
              "         ...,\n",
              "         [137,  95,  36],\n",
              "         [126,  91,  36],\n",
              "         [116,  85,  33]],\n",
              "\n",
              "        [[152, 112,  51],\n",
              "         [151, 110,  40],\n",
              "         [159, 114,  45],\n",
              "         ...,\n",
              "         [136,  95,  31],\n",
              "         [125,  91,  32],\n",
              "         [119,  88,  34]],\n",
              "\n",
              "        [[151, 110,  47],\n",
              "         [151, 109,  33],\n",
              "         [158, 111,  36],\n",
              "         ...,\n",
              "         [139,  98,  34],\n",
              "         [130,  95,  34],\n",
              "         [120,  89,  33]],\n",
              "\n",
              "        ...,\n",
              "\n",
              "        [[ 68, 124, 177],\n",
              "         [ 42, 100, 148],\n",
              "         [ 31,  88, 137],\n",
              "         ...,\n",
              "         [ 38,  97, 146],\n",
              "         [ 13,  64, 108],\n",
              "         [ 40,  85, 127]],\n",
              "\n",
              "        [[ 61, 116, 168],\n",
              "         [ 49, 102, 148],\n",
              "         [ 35,  85, 132],\n",
              "         ...,\n",
              "         [ 26,  82, 130],\n",
              "         [ 29,  82, 126],\n",
              "         [ 20,  64, 107]],\n",
              "\n",
              "        [[ 54, 107, 160],\n",
              "         [ 56, 105, 149],\n",
              "         [ 45,  89, 132],\n",
              "         ...,\n",
              "         [ 24,  77, 124],\n",
              "         [ 34,  84, 129],\n",
              "         [ 21,  67, 110]]],\n",
              "\n",
              "\n",
              "       [[[235, 235, 235],\n",
              "         [231, 231, 231],\n",
              "         [232, 232, 232],\n",
              "         ...,\n",
              "         [233, 233, 233],\n",
              "         [233, 233, 233],\n",
              "         [232, 232, 232]],\n",
              "\n",
              "        [[238, 238, 238],\n",
              "         [235, 235, 235],\n",
              "         [235, 235, 235],\n",
              "         ...,\n",
              "         [236, 236, 236],\n",
              "         [236, 236, 236],\n",
              "         [235, 235, 235]],\n",
              "\n",
              "        [[237, 237, 237],\n",
              "         [234, 234, 234],\n",
              "         [234, 234, 234],\n",
              "         ...,\n",
              "         [235, 235, 235],\n",
              "         [235, 235, 235],\n",
              "         [234, 234, 234]],\n",
              "\n",
              "        ...,\n",
              "\n",
              "        [[ 87,  99,  89],\n",
              "         [ 43,  51,  37],\n",
              "         [ 19,  23,  11],\n",
              "         ...,\n",
              "         [169, 184, 179],\n",
              "         [182, 197, 193],\n",
              "         [188, 202, 201]],\n",
              "\n",
              "        [[ 82,  96,  82],\n",
              "         [ 46,  57,  36],\n",
              "         [ 36,  44,  22],\n",
              "         ...,\n",
              "         [174, 189, 183],\n",
              "         [185, 200, 196],\n",
              "         [187, 202, 200]],\n",
              "\n",
              "        [[ 85, 101,  83],\n",
              "         [ 62,  75,  48],\n",
              "         [ 58,  67,  38],\n",
              "         ...,\n",
              "         [168, 183, 178],\n",
              "         [180, 195, 191],\n",
              "         [186, 200, 199]]],\n",
              "\n",
              "\n",
              "       [[[158, 190, 222],\n",
              "         [158, 187, 218],\n",
              "         [139, 166, 194],\n",
              "         ...,\n",
              "         [228, 231, 234],\n",
              "         [237, 239, 243],\n",
              "         [238, 241, 246]],\n",
              "\n",
              "        [[170, 200, 229],\n",
              "         [172, 199, 226],\n",
              "         [151, 176, 201],\n",
              "         ...,\n",
              "         [232, 232, 236],\n",
              "         [246, 246, 250],\n",
              "         [246, 247, 251]],\n",
              "\n",
              "        [[174, 201, 225],\n",
              "         [176, 200, 222],\n",
              "         [157, 179, 199],\n",
              "         ...,\n",
              "         [230, 229, 232],\n",
              "         [250, 249, 251],\n",
              "         [245, 244, 247]],\n",
              "\n",
              "        ...,\n",
              "\n",
              "        [[ 31,  40,  45],\n",
              "         [ 30,  39,  44],\n",
              "         [ 26,  35,  40],\n",
              "         ...,\n",
              "         [ 37,  40,  46],\n",
              "         [  9,  13,  14],\n",
              "         [  4,   7,   5]],\n",
              "\n",
              "        [[ 23,  34,  39],\n",
              "         [ 27,  38,  43],\n",
              "         [ 25,  36,  41],\n",
              "         ...,\n",
              "         [ 19,  20,  24],\n",
              "         [  4,   6,   3],\n",
              "         [  5,   7,   3]],\n",
              "\n",
              "        [[ 28,  41,  47],\n",
              "         [ 30,  43,  50],\n",
              "         [ 32,  45,  52],\n",
              "         ...,\n",
              "         [  5,   6,   8],\n",
              "         [  4,   5,   3],\n",
              "         [  7,   8,   7]]],\n",
              "\n",
              "\n",
              "       ...,\n",
              "\n",
              "\n",
              "       [[[ 20,  15,  12],\n",
              "         [ 19,  14,  11],\n",
              "         [ 15,  14,  11],\n",
              "         ...,\n",
              "         [ 10,   9,   7],\n",
              "         [ 12,  11,   9],\n",
              "         [ 13,  12,  10]],\n",
              "\n",
              "        [[ 21,  16,  13],\n",
              "         [ 20,  16,  13],\n",
              "         [ 18,  17,  12],\n",
              "         ...,\n",
              "         [ 10,   9,   7],\n",
              "         [ 10,   9,   7],\n",
              "         [ 12,  11,   9]],\n",
              "\n",
              "        [[ 21,  16,  13],\n",
              "         [ 21,  17,  12],\n",
              "         [ 20,  18,  11],\n",
              "         ...,\n",
              "         [ 12,  11,   9],\n",
              "         [ 12,  11,   9],\n",
              "         [ 13,  12,  10]],\n",
              "\n",
              "        ...,\n",
              "\n",
              "        [[ 33,  25,  13],\n",
              "         [ 34,  26,  15],\n",
              "         [ 34,  26,  15],\n",
              "         ...,\n",
              "         [ 28,  25,  52],\n",
              "         [ 29,  25,  58],\n",
              "         [ 23,  20,  42]],\n",
              "\n",
              "        [[ 33,  25,  14],\n",
              "         [ 34,  26,  15],\n",
              "         [ 34,  26,  15],\n",
              "         ...,\n",
              "         [ 27,  24,  52],\n",
              "         [ 27,  24,  56],\n",
              "         [ 25,  22,  47]],\n",
              "\n",
              "        [[ 31,  23,  12],\n",
              "         [ 32,  24,  13],\n",
              "         [ 33,  25,  14],\n",
              "         ...,\n",
              "         [ 24,  23,  50],\n",
              "         [ 26,  23,  53],\n",
              "         [ 25,  20,  47]]],\n",
              "\n",
              "\n",
              "       [[[ 25,  40,  12],\n",
              "         [ 15,  36,   3],\n",
              "         [ 23,  41,  18],\n",
              "         ...,\n",
              "         [ 61,  82,  78],\n",
              "         [ 92, 113, 112],\n",
              "         [ 75,  89,  92]],\n",
              "\n",
              "        [[ 12,  25,   6],\n",
              "         [ 20,  37,   7],\n",
              "         [ 24,  36,  15],\n",
              "         ...,\n",
              "         [115, 134, 138],\n",
              "         [149, 168, 177],\n",
              "         [104, 117, 131]],\n",
              "\n",
              "        [[ 12,  25,  11],\n",
              "         [ 15,  29,   6],\n",
              "         [ 34,  40,  24],\n",
              "         ...,\n",
              "         [154, 172, 182],\n",
              "         [157, 175, 192],\n",
              "         [116, 129, 151]],\n",
              "\n",
              "        ...,\n",
              "\n",
              "        [[100, 129,  81],\n",
              "         [103, 132,  84],\n",
              "         [104, 134,  86],\n",
              "         ...,\n",
              "         [ 97, 128,  84],\n",
              "         [ 98, 126,  84],\n",
              "         [ 91, 121,  79]],\n",
              "\n",
              "        [[103, 132,  83],\n",
              "         [104, 131,  83],\n",
              "         [107, 135,  87],\n",
              "         ...,\n",
              "         [101, 132,  87],\n",
              "         [ 99, 127,  84],\n",
              "         [ 92, 121,  79]],\n",
              "\n",
              "        [[ 95, 126,  78],\n",
              "         [ 95, 123,  76],\n",
              "         [101, 128,  81],\n",
              "         ...,\n",
              "         [ 93, 124,  80],\n",
              "         [ 95, 123,  81],\n",
              "         [ 92, 120,  80]]],\n",
              "\n",
              "\n",
              "       [[[ 73,  78,  75],\n",
              "         [ 98, 103, 113],\n",
              "         [ 99, 106, 114],\n",
              "         ...,\n",
              "         [135, 150, 152],\n",
              "         [135, 149, 154],\n",
              "         [203, 215, 223]],\n",
              "\n",
              "        [[ 69,  73,  70],\n",
              "         [ 84,  89,  97],\n",
              "         [ 68,  75,  81],\n",
              "         ...,\n",
              "         [ 85,  95,  89],\n",
              "         [ 71,  82,  80],\n",
              "         [120, 133, 135]],\n",
              "\n",
              "        [[ 69,  73,  70],\n",
              "         [ 90,  95, 100],\n",
              "         [ 62,  71,  74],\n",
              "         ...,\n",
              "         [ 74,  81,  70],\n",
              "         [ 53,  62,  54],\n",
              "         [ 62,  74,  69]],\n",
              "\n",
              "        ...,\n",
              "\n",
              "        [[123, 128,  96],\n",
              "         [132, 132, 102],\n",
              "         [129, 128, 100],\n",
              "         ...,\n",
              "         [108, 107,  88],\n",
              "         [ 62,  60,  55],\n",
              "         [ 27,  27,  28]],\n",
              "\n",
              "        [[115, 121,  91],\n",
              "         [123, 124,  95],\n",
              "         [129, 126,  99],\n",
              "         ...,\n",
              "         [115, 116,  94],\n",
              "         [ 66,  65,  59],\n",
              "         [ 27,  27,  27]],\n",
              "\n",
              "        [[116, 120,  90],\n",
              "         [121, 122,  94],\n",
              "         [129, 128, 101],\n",
              "         ...,\n",
              "         [116, 115,  94],\n",
              "         [ 68,  65,  58],\n",
              "         [ 27,  26,  26]]]], dtype=uint8)"
            ]
          },
          "metadata": {},
          "execution_count": 30
        }
      ]
    },
    {
      "cell_type": "code",
      "source": [
        "#Normalizing the pixel values in between 0 to 255\n",
        "x_train = x_train.astype('float32')/255.0\n",
        "x_test = x_test.astype('float32')/255.0"
      ],
      "metadata": {
        "id": "3bic7QjkTJsF"
      },
      "execution_count": 31,
      "outputs": []
    },
    {
      "cell_type": "code",
      "source": [
        "# One-hot encode labels\n",
        "y_train = to_categorical(y_train, 10)\n",
        "y_test = to_categorical(y_test, 10)"
      ],
      "metadata": {
        "id": "Mq9RLErLT_2H"
      },
      "execution_count": 32,
      "outputs": []
    },
    {
      "cell_type": "markdown",
      "source": [
        "Now defining a neural network model for Stochastic Gradient Descent"
      ],
      "metadata": {
        "id": "bVC00BI-U-sL"
      }
    },
    {
      "cell_type": "code",
      "source": [
        "modelsgd = Sequential()\n",
        "modelsgd.add(Flatten(input_shape=(32,32,3)))\n",
        "modelsgd.add(Dense(512,activation='relu'),Dropout(0.5))\n",
        "modelsgd.add(Dense(256,activation='relu'),Dropout(0.3))\n",
        "modelsgd.add(Dense(10,activation='softmax'))"
      ],
      "metadata": {
        "id": "osn21CckVFKv"
      },
      "execution_count": 33,
      "outputs": []
    },
    {
      "cell_type": "code",
      "source": [
        "opt_sgd = SGD(learning_rate=0.01)\n",
        "modelsgd.compile(optimizer=opt_sgd,loss='categorical_crossentropy',metrics=['accuracy'])\n",
        "hissgd = modelsgd.fit(x_train,y_train,epochs=5,batch_size=64,validation_data=(x_test,y_test),validation_split=0.3)"
      ],
      "metadata": {
        "colab": {
          "base_uri": "https://localhost:8080/"
        },
        "id": "eRNxCK19V7Ew",
        "outputId": "c0b85647-96b6-4286-cc92-9202fee5a39e"
      },
      "execution_count": 34,
      "outputs": [
        {
          "output_type": "stream",
          "name": "stdout",
          "text": [
            "Epoch 1/5\n",
            "\u001b[1m782/782\u001b[0m \u001b[32m━━━━━━━━━━━━━━━━━━━━\u001b[0m\u001b[37m\u001b[0m \u001b[1m20s\u001b[0m 24ms/step - accuracy: 0.2776 - loss: 2.0127 - val_accuracy: 0.3243 - val_loss: 1.9398\n",
            "Epoch 2/5\n",
            "\u001b[1m782/782\u001b[0m \u001b[32m━━━━━━━━━━━━━━━━━━━━\u001b[0m\u001b[37m\u001b[0m \u001b[1m18s\u001b[0m 23ms/step - accuracy: 0.3805 - loss: 1.7607 - val_accuracy: 0.3042 - val_loss: 1.9592\n",
            "Epoch 3/5\n",
            "\u001b[1m782/782\u001b[0m \u001b[32m━━━━━━━━━━━━━━━━━━━━\u001b[0m\u001b[37m\u001b[0m \u001b[1m21s\u001b[0m 24ms/step - accuracy: 0.4103 - loss: 1.6743 - val_accuracy: 0.3958 - val_loss: 1.6821\n",
            "Epoch 4/5\n",
            "\u001b[1m782/782\u001b[0m \u001b[32m━━━━━━━━━━━━━━━━━━━━\u001b[0m\u001b[37m\u001b[0m \u001b[1m18s\u001b[0m 23ms/step - accuracy: 0.4348 - loss: 1.6115 - val_accuracy: 0.3977 - val_loss: 1.7031\n",
            "Epoch 5/5\n",
            "\u001b[1m782/782\u001b[0m \u001b[32m━━━━━━━━━━━━━━━━━━━━\u001b[0m\u001b[37m\u001b[0m \u001b[1m20s\u001b[0m 23ms/step - accuracy: 0.4466 - loss: 1.5675 - val_accuracy: 0.4208 - val_loss: 1.6230\n"
          ]
        }
      ]
    },
    {
      "cell_type": "markdown",
      "source": [
        "Now defining a neural network model for Momentum Stochastic Gradient Descent"
      ],
      "metadata": {
        "id": "w6un7qdxWrej"
      }
    },
    {
      "cell_type": "code",
      "source": [
        "modelmom = Sequential()\n",
        "modelmom.add(Flatten(input_shape=(32,32,3)))\n",
        "modelmom.add(Dense(512,activation='relu'),Dropout(0.5))\n",
        "modelmom.add(Dense(256,activation='relu'),Dropout(0.3))\n",
        "modelmom.add(Dense(10,activation='softmax'))"
      ],
      "metadata": {
        "id": "RMA6M7ibWmG3"
      },
      "execution_count": 35,
      "outputs": []
    },
    {
      "cell_type": "code",
      "source": [
        "optmom = SGD(learning_rate=0.01,momentum = 0.9)\n",
        "modelmom.compile(optimizer=optmom,loss='categorical_crossentropy',metrics=['accuracy'])\n",
        "hismom=modelmom.fit(x_train,y_train,epochs=5,batch_size=64,validation_data=(x_test,y_test),validation_split=0.3)"
      ],
      "metadata": {
        "colab": {
          "base_uri": "https://localhost:8080/"
        },
        "id": "BFGh9gxlW6TY",
        "outputId": "fb4672bf-ac2f-4611-a8bf-53d1caf77cf4"
      },
      "execution_count": 36,
      "outputs": [
        {
          "output_type": "stream",
          "name": "stdout",
          "text": [
            "Epoch 1/5\n",
            "\u001b[1m782/782\u001b[0m \u001b[32m━━━━━━━━━━━━━━━━━━━━\u001b[0m\u001b[37m\u001b[0m \u001b[1m22s\u001b[0m 27ms/step - accuracy: 0.2895 - loss: 1.9586 - val_accuracy: 0.3845 - val_loss: 1.7288\n",
            "Epoch 2/5\n",
            "\u001b[1m782/782\u001b[0m \u001b[32m━━━━━━━━━━━━━━━━━━━━\u001b[0m\u001b[37m\u001b[0m \u001b[1m41s\u001b[0m 27ms/step - accuracy: 0.4067 - loss: 1.6630 - val_accuracy: 0.4227 - val_loss: 1.6301\n",
            "Epoch 3/5\n",
            "\u001b[1m782/782\u001b[0m \u001b[32m━━━━━━━━━━━━━━━━━━━━\u001b[0m\u001b[37m\u001b[0m \u001b[1m20s\u001b[0m 26ms/step - accuracy: 0.4348 - loss: 1.5895 - val_accuracy: 0.4474 - val_loss: 1.5437\n",
            "Epoch 4/5\n",
            "\u001b[1m782/782\u001b[0m \u001b[32m━━━━━━━━━━━━━━━━━━━━\u001b[0m\u001b[37m\u001b[0m \u001b[1m22s\u001b[0m 28ms/step - accuracy: 0.4552 - loss: 1.5175 - val_accuracy: 0.4586 - val_loss: 1.5111\n",
            "Epoch 5/5\n",
            "\u001b[1m782/782\u001b[0m \u001b[32m━━━━━━━━━━━━━━━━━━━━\u001b[0m\u001b[37m\u001b[0m \u001b[1m21s\u001b[0m 26ms/step - accuracy: 0.4734 - loss: 1.4647 - val_accuracy: 0.4702 - val_loss: 1.4859\n"
          ]
        }
      ]
    },
    {
      "cell_type": "markdown",
      "source": [
        "Now defining a neural network model for Nesterov Accelerated Gradient"
      ],
      "metadata": {
        "id": "fbhKtN3nXAsc"
      }
    },
    {
      "cell_type": "code",
      "source": [
        "modelnag = Sequential()\n",
        "modelnag.add(Flatten(input_shape=(32,32,3)))\n",
        "modelnag.add(Dense(512,activation='relu'),Dropout(0.5))\n",
        "modelnag.add(Dense(256,activation='relu'),Dropout(0.3))\n",
        "modelnag.add(Dense(10,activation='softmax'))"
      ],
      "metadata": {
        "id": "H59RxqAGXIy5"
      },
      "execution_count": 37,
      "outputs": []
    },
    {
      "cell_type": "code",
      "source": [
        "optnag = SGD(learning_rate=0.01)\n",
        "modelnag.compile(optimizer=optnag,loss='categorical_crossentropy',metrics=['accuracy'])\n",
        "hisnag=modelnag.fit(x_train,y_train,epochs=5,batch_size=64,validation_data=(x_test,y_test),validation_split=0.3)"
      ],
      "metadata": {
        "colab": {
          "base_uri": "https://localhost:8080/"
        },
        "id": "TbtrmfHCXfzy",
        "outputId": "ba4f313a-b746-4e39-85dc-3b39eb58381b"
      },
      "execution_count": 38,
      "outputs": [
        {
          "output_type": "stream",
          "name": "stdout",
          "text": [
            "Epoch 1/5\n",
            "\u001b[1m782/782\u001b[0m \u001b[32m━━━━━━━━━━━━━━━━━━━━\u001b[0m\u001b[37m\u001b[0m \u001b[1m69s\u001b[0m 88ms/step - accuracy: 0.2677 - loss: 2.0158 - val_accuracy: 0.3554 - val_loss: 1.7925\n",
            "Epoch 2/5\n",
            "\u001b[1m782/782\u001b[0m \u001b[32m━━━━━━━━━━━━━━━━━━━━\u001b[0m\u001b[37m\u001b[0m \u001b[1m32s\u001b[0m 24ms/step - accuracy: 0.3764 - loss: 1.7683 - val_accuracy: 0.3639 - val_loss: 1.7477\n",
            "Epoch 3/5\n",
            "\u001b[1m782/782\u001b[0m \u001b[32m━━━━━━━━━━━━━━━━━━━━\u001b[0m\u001b[37m\u001b[0m \u001b[1m19s\u001b[0m 23ms/step - accuracy: 0.4115 - loss: 1.6702 - val_accuracy: 0.4002 - val_loss: 1.6941\n",
            "Epoch 4/5\n",
            "\u001b[1m782/782\u001b[0m \u001b[32m━━━━━━━━━━━━━━━━━━━━\u001b[0m\u001b[37m\u001b[0m \u001b[1m19s\u001b[0m 22ms/step - accuracy: 0.4322 - loss: 1.6167 - val_accuracy: 0.4010 - val_loss: 1.6609\n",
            "Epoch 5/5\n",
            "\u001b[1m782/782\u001b[0m \u001b[32m━━━━━━━━━━━━━━━━━━━━\u001b[0m\u001b[37m\u001b[0m \u001b[1m22s\u001b[0m 23ms/step - accuracy: 0.4510 - loss: 1.5564 - val_accuracy: 0.4459 - val_loss: 1.5694\n"
          ]
        }
      ]
    },
    {
      "cell_type": "code",
      "source": [
        "import matplotlib.pyplot as plt\n",
        "histories = {\n",
        "    'SGD': hissgd,\n",
        "    'Momentum': hismom,\n",
        "    'Nesterov': hisnag\n",
        "}\n",
        "\n",
        "# Plot Accuracy and Loss\n",
        "plt.figure(figsize=(14, 5))\n",
        "\n",
        "# 🔹 Validation Accuracy Plot\n",
        "plt.subplot(1, 2, 1)\n",
        "for name, history in histories.items():\n",
        "    plt.plot(history.history['val_accuracy'], label=f'{name}')\n",
        "plt.title('Validation Accuracy')\n",
        "plt.xlabel('Epochs')\n",
        "plt.ylabel('Accuracy')\n",
        "plt.legend()\n",
        "\n",
        "# 🔸 Validation Loss Plot\n",
        "plt.subplot(1, 2, 2)\n",
        "for name, history in histories.items():\n",
        "    plt.plot(history.history['val_loss'], label=f'{name}')\n",
        "plt.title('Validation Loss')\n",
        "plt.xlabel('Epochs')\n",
        "plt.ylabel('Loss')\n",
        "plt.legend()\n",
        "\n",
        "plt.suptitle('Optimizer Comparison: SGD vs Momentum vs Nesterov', fontsize=16)\n",
        "plt.tight_layout()\n",
        "plt.show()"
      ],
      "metadata": {
        "colab": {
          "base_uri": "https://localhost:8080/",
          "height": 247
        },
        "id": "VIRpJig6bNuq",
        "outputId": "18f23738-1011-4a4b-f211-bcfaeacaa507"
      },
      "execution_count": 39,
      "outputs": [
        {
          "output_type": "display_data",
          "data": {
            "text/plain": [
              "<Figure size 1400x500 with 2 Axes>"
            ],
            "image/png": "[encoded data removed]"
          },
          "metadata": {}
        }
      ]
    },
    {
      "cell_type": "markdown",
      "source": [
        "Here from graph it is clear that momentum is working better than nesterov than sgd on validation data.\n",
        "\n",
        "Loss of sgd is more than nesterov than momentum ."
      ],
      "metadata": {
        "id": "See2SsEUccLY"
      }
    },
    {
      "cell_type": "code",
      "source": [
        "modelmom.evaluate(x_test,y_test)\n",
        "#Here 1.4859 is loss value of test data and 0.4702 is the accuracy on test data"
      ],
      "metadata": {
        "colab": {
          "base_uri": "https://localhost:8080/"
        },
        "id": "W714fS0Ab8H0",
        "outputId": "19971448-e51b-406e-8269-140aee779f01"
      },
      "execution_count": 40,
      "outputs": [
        {
          "output_type": "stream",
          "name": "stdout",
          "text": [
            "\u001b[1m313/313\u001b[0m \u001b[32m━━━━━━━━━━━━━━━━━━━━\u001b[0m\u001b[37m\u001b[0m \u001b[1m2s\u001b[0m 7ms/step - accuracy: 0.4782 - loss: 1.4757\n"
          ]
        },
        {
          "output_type": "execute_result",
          "data": {
            "text/plain": [
              "[1.485914945602417, 0.4702000021934509]"
            ]
          },
          "metadata": {},
          "execution_count": 40
        }
      ]
    },
    {
      "cell_type": "code",
      "source": [
        "modelsgd.evaluate(x_test,y_test)"
      ],
      "metadata": {
        "colab": {
          "base_uri": "https://localhost:8080/"
        },
        "id": "-L4V4qhcb_zV",
        "outputId": "3b69741e-a192-4473-a1af-fd4fe6417e0a"
      },
      "execution_count": 41,
      "outputs": [
        {
          "output_type": "stream",
          "name": "stdout",
          "text": [
            "\u001b[1m313/313\u001b[0m \u001b[32m━━━━━━━━━━━━━━━━━━━━\u001b[0m\u001b[37m\u001b[0m \u001b[1m3s\u001b[0m 9ms/step - accuracy: 0.4212 - loss: 1.6182\n"
          ]
        },
        {
          "output_type": "execute_result",
          "data": {
            "text/plain": [
              "[1.6229596138000488, 0.42080000042915344]"
            ]
          },
          "metadata": {},
          "execution_count": 41
        }
      ]
    },
    {
      "cell_type": "code",
      "source": [
        "modelnag.evaluate(x_test,y_test)"
      ],
      "metadata": {
        "colab": {
          "base_uri": "https://localhost:8080/"
        },
        "id": "jL3mGgbIcECZ",
        "outputId": "99f2d495-7d8c-483f-b517-39812f4b866a"
      },
      "execution_count": 42,
      "outputs": [
        {
          "output_type": "stream",
          "name": "stdout",
          "text": [
            "\u001b[1m313/313\u001b[0m \u001b[32m━━━━━━━━━━━━━━━━━━━━\u001b[0m\u001b[37m\u001b[0m \u001b[1m2s\u001b[0m 7ms/step - accuracy: 0.4538 - loss: 1.5643\n"
          ]
        },
        {
          "output_type": "execute_result",
          "data": {
            "text/plain": [
              "[1.5694290399551392, 0.44589999318122864]"
            ]
          },
          "metadata": {},
          "execution_count": 42
        }
      ]
    },
    {
      "cell_type": "code",
      "source": [],
      "metadata": {
        "id": "FfSynqvDcHVl"
      },
      "execution_count": null,
      "outputs": []
    }
  ]
}