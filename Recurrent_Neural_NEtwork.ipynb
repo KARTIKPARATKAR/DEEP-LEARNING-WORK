{
  "nbformat": 4,
  "nbformat_minor": 0,
  "metadata": {
    "colab": {
      "provenance": [],
      "gpuType": "T4",
      "include_colab_link": true
    },
    "kernelspec": {
      "name": "python3",
      "display_name": "Python 3"
    },
    "language_info": {
      "name": "python"
    },
    "accelerator": "GPU"
  },
  "cells": [
    {
      "cell_type": "markdown",
      "metadata": {
        "id": "view-in-github",
        "colab_type": "text"
      },
      "source": [
        "<a href=\"https://colab.research.google.com/github/KARTIKPARATKAR/DEEP-LEARNING-WORK/blob/main/Recurrent_Neural_NEtwork.ipynb\" target=\"_parent\"><img src=\"https://colab.research.google.com/assets/colab-badge.svg\" alt=\"Open In Colab\"/></a>"
      ]
    },
    {
      "cell_type": "markdown",
      "source": [
        "**Recurrent Neural Network-**\n",
        "\n",
        "ANN is used when we have tabular data.\n",
        "\n",
        "CNN is used when we have grid like data. For example image and video.\n",
        "\n",
        "RNN(Recurrent Neural Network) is used when we have sequential data and RNN is a type of sequential model.\n",
        "\n",
        "Non-Sequential Data -> Consider a problem of prediction of placement of a student based on iq,marks and gender. So if we give input of iq , marks and gender randomly to the neural network , it wont affect the model.So this data is kind of a non-sequential data where sequence of the data does not matter.\n",
        "\n",
        "Sequential Data -> Consider a problem where data is in the form of text. Text like \"My name is Karan\". So here giving input of this data to the model matters, we should first give My then name then is then Karan . It is the most important thing in text data to give in sequence otherwise the meaning given to the model might differ. Such type of data is known as Sequential Data.Any type of texual data is a sequential data.\n",
        "\n",
        "Graph of a stock price of perticular company is a Sequential time series sequential data.\n",
        "\n",
        "Audio is also an example of sequential data. DNA sequence is also the sequential data.\n",
        "\n",
        "RNN's are most used in NLP domain.RNN's are best suited for text data."
      ],
      "metadata": {
        "id": "eRX_YwmDiyQ_"
      }
    },
    {
      "cell_type": "markdown",
      "source": [
        "**Why RNN's are needed?**\n",
        "\n",
        "Let we are building a text classification problem. Text input is generally of a varying size which means the model is trained on lets say 100 words of input size and user is giving test input of 200 size od words so our model wont be able to recognize the input in first place.\n",
        "\n",
        "Main thing in text data is that it should maintain the sequence of words that is being given to the model.If sentence has 5 words then it should be given to the model in same sequnce as it is written. But if we use ANN , there is provision of taking input sequentially. In ANN data is taken at once so we can-not use ANN for sequential data.ANN cant remember which word came first and which word came after that .and this is the reason why we need RNN's."
      ],
      "metadata": {
        "id": "acGcpXZFlu5b"
      }
    },
    {
      "cell_type": "markdown",
      "source": [
        "**Applications Of RNN's-**\n",
        "\n",
        "1)Sentiment Analysis-\n",
        "\n",
        "We get a text as input and we have to tell whether that text sentiment is positive or negative.\n",
        "\n",
        "2)Sentence Completion-\n",
        "\n",
        "This is nothing but the next word prediction where we predict the most probable next word while writing a text.\n",
        "\n",
        "3)Image Caption Generator -\n",
        "\n",
        "We give image as input to the model and that model gives us output of description of the input image as to what is there in the image.\n",
        "\n",
        "4)Text Translation-\n",
        "\n",
        "We translate the German text into English text on google and this is possible because of RNN's\n",
        "\n",
        "5)Question and Answer Demo -\n",
        "\n",
        "If we give input as a paragraph to model then ask any question related to that paragraph  our model should be able to give answer of those questions."
      ],
      "metadata": {
        "id": "yfU0nXTtp5Us"
      }
    },
    {
      "cell_type": "markdown",
      "source": [],
      "metadata": {
        "id": "H6H-kBV5sNAu"
      }
    }
  ]
}