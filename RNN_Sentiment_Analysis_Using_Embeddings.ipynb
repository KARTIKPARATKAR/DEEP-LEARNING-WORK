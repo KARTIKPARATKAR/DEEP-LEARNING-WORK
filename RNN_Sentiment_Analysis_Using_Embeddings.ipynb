{
  "nbformat": 4,
  "nbformat_minor": 0,
  "metadata": {
    "colab": {
      "provenance": [],
      "gpuType": "T4",
      "include_colab_link": true
    },
    "kernelspec": {
      "name": "python3",
      "display_name": "Python 3"
    },
    "language_info": {
      "name": "python"
    },
    "accelerator": "GPU"
  },
  "cells": [
    {
      "cell_type": "markdown",
      "metadata": {
        "id": "view-in-github",
        "colab_type": "text"
      },
      "source": [
        "<a href=\"https://colab.research.google.com/github/KARTIKPARATKAR/DEEP-LEARNING-WORK/blob/main/RNN_Sentiment_Analysis_Using_Embeddings.ipynb\" target=\"_parent\"><img src=\"https://colab.research.google.com/assets/colab-badge.svg\" alt=\"Open In Colab\"/></a>"
      ]
    },
    {
      "cell_type": "markdown",
      "source": [
        "Note-Implementation code wont work.I tried my best to run but couldnt find the reason why it was not getting trained."
      ],
      "metadata": {
        "id": "JiXx2OGQGSSi"
      }
    },
    {
      "cell_type": "markdown",
      "source": [
        "**Sentiment Analysis-**\n",
        "\n",
        "Sentiment analysis is a common NLP task where a model predicts the sentiment (positive, negative, neutral) of a given text. RNNs (Recurrent Neural Networks) are widely used for this since they can handle sequential data effectively.We will have data for sentiment analysis in text form. We cant give text input to the RNN model. We need to convert text data into integers or vectors. ONe way of converting text into vector is Integer encoding and another way is Embeddings.\n",
        "\n",
        "Generally Embeddings give better results than Integer Encodings."
      ],
      "metadata": {
        "id": "sBdT64Tr4rz-"
      }
    },
    {
      "cell_type": "markdown",
      "source": [
        "**Embedding-**\n",
        "\n",
        "When we convert text into vectors , the representation is dense. Dense means most of the values are non-zero which results in lower dimensions of the vector.Converted vectors can capture semantic meaning which means it can understand in which context that perticular word is being used.WordToVec and Glove are two Embedding techniques.IN deep learning, we can add the embedding layer in training process of the RNN model.This embedding layer should be added at the start get dense representation and send this dense representation to RNN network.\n",
        "\n",
        "![1.jpg](data:image/jpeg;base64,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)"
      ],
      "metadata": {
        "id": "zE_Db0Qo5hdP"
      }
    },
    {
      "cell_type": "code",
      "source": [],
      "metadata": {
        "id": "LvRXQ233GmJE"
      },
      "execution_count": null,
      "outputs": []
    },
    {
      "cell_type": "markdown",
      "source": [
        "**Keras Implementation of Embedding Layer-**"
      ],
      "metadata": {
        "id": "uYThPVyl7bOc"
      }
    },
    {
      "cell_type": "code",
      "source": [
        "import tensorflow\n",
        "from tensorflow import keras\n",
        "from tensorflow.keras.datasets import imdb\n",
        "from tensorflow.keras.preprocessing.sequence import pad_sequences  # Fixed import\n",
        "from keras import Sequential\n",
        "from keras.layers import Dense, SimpleRNN, Embedding"
      ],
      "metadata": {
        "id": "X11VC3-z-mLI"
      },
      "execution_count": 1,
      "outputs": []
    },
    {
      "cell_type": "code",
      "source": [
        "(X_train, y_train), (X_test, y_test) = imdb.load_data(num_words=10000)"
      ],
      "metadata": {
        "id": "uWM4_OX9_q_O"
      },
      "execution_count": 2,
      "outputs": []
    },
    {
      "cell_type": "code",
      "source": [
        "X_train = pad_sequences(X_train, padding='post', maxlen=50)\n",
        "X_test = pad_sequences(X_test, padding='post', maxlen=50)"
      ],
      "metadata": {
        "id": "6CgCRlGFAMEo"
      },
      "execution_count": 3,
      "outputs": []
    },
    {
      "cell_type": "code",
      "source": [
        "X_train.shape"
      ],
      "metadata": {
        "colab": {
          "base_uri": "https://localhost:8080/"
        },
        "id": "y944kLfxAMuZ",
        "outputId": "d16b7cca-e25d-48d8-f047-7639c4031c6e"
      },
      "execution_count": 4,
      "outputs": [
        {
          "output_type": "execute_result",
          "data": {
            "text/plain": [
              "(25000, 50)"
            ]
          },
          "metadata": {},
          "execution_count": 4
        }
      ]
    },
    {
      "cell_type": "code",
      "source": [
        "from tensorflow.keras.models import Sequential\n",
        "from tensorflow.keras.layers import Embedding, SimpleRNN, Dense, Flatten\n",
        "\n",
        "# Define parameters\n",
        "vocab_size = 10000       # Must be a positive integer\n",
        "embedded_vector_size = 2 # Output dimensions of embedding\n",
        "max_length = 50          # Input sequence length\n",
        "\n",
        "# Build the model\n",
        "model = Sequential()\n",
        "model.add(Embedding(input_dim=vocab_size, output_dim=embedded_vector_size,\n",
        "                    input_length=max_length, trainable=True, name=\"embedding\"))\n",
        "model.add(SimpleRNN(32, return_sequences=False))\n",
        "model.add(Dense(1, activation='sigmoid'))\n",
        "\n",
        "# Build and summarize\n",
        "model.build(input_shape=(None, max_length))  # Ensure model is built\n",
        "model.summary()\n",
        "\n"
      ],
      "metadata": {
        "colab": {
          "base_uri": "https://localhost:8080/",
          "height": 240
        },
        "id": "4Mm8ST-1AOBz",
        "outputId": "bae2ef51-cc1d-4116-8543-29faf5b8bdfd"
      },
      "execution_count": 21,
      "outputs": [
        {
          "output_type": "display_data",
          "data": {
            "text/plain": [
              "\u001b[1mModel: \"sequential_3\"\u001b[0m\n"
            ],
            "text/html": [
              "<pre style=\"white-space:pre;overflow-x:auto;line-height:normal;font-family:Menlo,'DejaVu Sans Mono',consolas,'Courier New',monospace\"><span style=\"font-weight: bold\">Model: \"sequential_3\"</span>\n",
              "</pre>\n"
            ]
          },
          "metadata": {}
        },
        {
          "output_type": "display_data",
          "data": {
            "text/plain": [
              "┏━━━━━━━━━━━━━━━━━━━━━━━━━━━━━━━━━━━━━━┳━━━━━━━━━━━━━━━━━━━━━━━━━━━━━┳━━━━━━━━━━━━━━━━━┓\n",
              "┃\u001b[1m \u001b[0m\u001b[1mLayer (type)                        \u001b[0m\u001b[1m \u001b[0m┃\u001b[1m \u001b[0m\u001b[1mOutput Shape               \u001b[0m\u001b[1m \u001b[0m┃\u001b[1m \u001b[0m\u001b[1m        Param #\u001b[0m\u001b[1m \u001b[0m┃\n",
              "┡━━━━━━━━━━━━━━━━━━━━━━━━━━━━━━━━━━━━━━╇━━━━━━━━━━━━━━━━━━━━━━━━━━━━━╇━━━━━━━━━━━━━━━━━┩\n",
              "│ embedding (\u001b[38;5;33mEmbedding\u001b[0m)                │ (\u001b[38;5;45mNone\u001b[0m, \u001b[38;5;34m50\u001b[0m, \u001b[38;5;34m2\u001b[0m)               │          \u001b[38;5;34m20,000\u001b[0m │\n",
              "├──────────────────────────────────────┼─────────────────────────────┼─────────────────┤\n",
              "│ simple_rnn_3 (\u001b[38;5;33mSimpleRNN\u001b[0m)             │ (\u001b[38;5;45mNone\u001b[0m, \u001b[38;5;34m32\u001b[0m)                  │           \u001b[38;5;34m1,120\u001b[0m │\n",
              "├──────────────────────────────────────┼─────────────────────────────┼─────────────────┤\n",
              "│ dense_3 (\u001b[38;5;33mDense\u001b[0m)                      │ (\u001b[38;5;45mNone\u001b[0m, \u001b[38;5;34m1\u001b[0m)                   │              \u001b[38;5;34m33\u001b[0m │\n",
              "└──────────────────────────────────────┴─────────────────────────────┴─────────────────┘\n"
            ],
            "text/html": [
              "<pre style=\"white-space:pre;overflow-x:auto;line-height:normal;font-family:Menlo,'DejaVu Sans Mono',consolas,'Courier New',monospace\">┏━━━━━━━━━━━━━━━━━━━━━━━━━━━━━━━━━━━━━━┳━━━━━━━━━━━━━━━━━━━━━━━━━━━━━┳━━━━━━━━━━━━━━━━━┓\n",
              "┃<span style=\"font-weight: bold\"> Layer (type)                         </span>┃<span style=\"font-weight: bold\"> Output Shape                </span>┃<span style=\"font-weight: bold\">         Param # </span>┃\n",
              "┡━━━━━━━━━━━━━━━━━━━━━━━━━━━━━━━━━━━━━━╇━━━━━━━━━━━━━━━━━━━━━━━━━━━━━╇━━━━━━━━━━━━━━━━━┩\n",
              "│ embedding (<span style=\"color: #0087ff; text-decoration-color: #0087ff\">Embedding</span>)                │ (<span style=\"color: #00d7ff; text-decoration-color: #00d7ff\">None</span>, <span style=\"color: #00af00; text-decoration-color: #00af00\">50</span>, <span style=\"color: #00af00; text-decoration-color: #00af00\">2</span>)               │          <span style=\"color: #00af00; text-decoration-color: #00af00\">20,000</span> │\n",
              "├──────────────────────────────────────┼─────────────────────────────┼─────────────────┤\n",
              "│ simple_rnn_3 (<span style=\"color: #0087ff; text-decoration-color: #0087ff\">SimpleRNN</span>)             │ (<span style=\"color: #00d7ff; text-decoration-color: #00d7ff\">None</span>, <span style=\"color: #00af00; text-decoration-color: #00af00\">32</span>)                  │           <span style=\"color: #00af00; text-decoration-color: #00af00\">1,120</span> │\n",
              "├──────────────────────────────────────┼─────────────────────────────┼─────────────────┤\n",
              "│ dense_3 (<span style=\"color: #0087ff; text-decoration-color: #0087ff\">Dense</span>)                      │ (<span style=\"color: #00d7ff; text-decoration-color: #00d7ff\">None</span>, <span style=\"color: #00af00; text-decoration-color: #00af00\">1</span>)                   │              <span style=\"color: #00af00; text-decoration-color: #00af00\">33</span> │\n",
              "└──────────────────────────────────────┴─────────────────────────────┴─────────────────┘\n",
              "</pre>\n"
            ]
          },
          "metadata": {}
        },
        {
          "output_type": "display_data",
          "data": {
            "text/plain": [
              "\u001b[1m Total params: \u001b[0m\u001b[38;5;34m21,153\u001b[0m (82.63 KB)\n"
            ],
            "text/html": [
              "<pre style=\"white-space:pre;overflow-x:auto;line-height:normal;font-family:Menlo,'DejaVu Sans Mono',consolas,'Courier New',monospace\"><span style=\"font-weight: bold\"> Total params: </span><span style=\"color: #00af00; text-decoration-color: #00af00\">21,153</span> (82.63 KB)\n",
              "</pre>\n"
            ]
          },
          "metadata": {}
        },
        {
          "output_type": "display_data",
          "data": {
            "text/plain": [
              "\u001b[1m Trainable params: \u001b[0m\u001b[38;5;34m21,153\u001b[0m (82.63 KB)\n"
            ],
            "text/html": [
              "<pre style=\"white-space:pre;overflow-x:auto;line-height:normal;font-family:Menlo,'DejaVu Sans Mono',consolas,'Courier New',monospace\"><span style=\"font-weight: bold\"> Trainable params: </span><span style=\"color: #00af00; text-decoration-color: #00af00\">21,153</span> (82.63 KB)\n",
              "</pre>\n"
            ]
          },
          "metadata": {}
        },
        {
          "output_type": "display_data",
          "data": {
            "text/plain": [
              "\u001b[1m Non-trainable params: \u001b[0m\u001b[38;5;34m0\u001b[0m (0.00 B)\n"
            ],
            "text/html": [
              "<pre style=\"white-space:pre;overflow-x:auto;line-height:normal;font-family:Menlo,'DejaVu Sans Mono',consolas,'Courier New',monospace\"><span style=\"font-weight: bold\"> Non-trainable params: </span><span style=\"color: #00af00; text-decoration-color: #00af00\">0</span> (0.00 B)\n",
              "</pre>\n"
            ]
          },
          "metadata": {}
        }
      ]
    },
    {
      "cell_type": "code",
      "source": [
        "model.compile(optimizer='adam', loss='binary_crossentropy', metrics=['accuracy'])"
      ],
      "metadata": {
        "id": "l_uJLfqyAPuA"
      },
      "execution_count": 22,
      "outputs": []
    },
    {
      "cell_type": "code",
      "source": [
        "history = model.fit(X_train, y_train, epochs=10, validation_data=(X_test, y_test))"
      ],
      "metadata": {
        "colab": {
          "base_uri": "https://localhost:8080/",
          "height": 1000
        },
        "id": "t5qHQuM2EsbA",
        "outputId": "063b2c55-3484-4223-be66-c7198ded622e"
      },
      "execution_count": 23,
      "outputs": [
        {
          "output_type": "stream",
          "name": "stdout",
          "text": [
            "Epoch 1/10\n"
          ]
        },
        {
          "output_type": "error",
          "ename": "InvalidArgumentError",
          "evalue": "Graph execution error:\n\nDetected at node sequential_3_1/embedding_1/GatherV2 defined at (most recent call last):\n  File \"<frozen runpy>\", line 198, in _run_module_as_main\n\n  File \"<frozen runpy>\", line 88, in _run_code\n\n  File \"/usr/local/lib/python3.11/dist-packages/colab_kernel_launcher.py\", line 37, in <module>\n\n  File \"/usr/local/lib/python3.11/dist-packages/traitlets/config/application.py\", line 992, in launch_instance\n\n  File \"/usr/local/lib/python3.11/dist-packages/ipykernel/kernelapp.py\", line 712, in start\n\n  File \"/usr/local/lib/python3.11/dist-packages/tornado/platform/asyncio.py\", line 205, in start\n\n  File \"/usr/lib/python3.11/asyncio/base_events.py\", line 608, in run_forever\n\n  File \"/usr/lib/python3.11/asyncio/base_events.py\", line 1936, in _run_once\n\n  File \"/usr/lib/python3.11/asyncio/events.py\", line 84, in _run\n\n  File \"/usr/local/lib/python3.11/dist-packages/ipykernel/kernelbase.py\", line 510, in dispatch_queue\n\n  File \"/usr/local/lib/python3.11/dist-packages/ipykernel/kernelbase.py\", line 499, in process_one\n\n  File \"/usr/local/lib/python3.11/dist-packages/ipykernel/kernelbase.py\", line 406, in dispatch_shell\n\n  File \"/usr/local/lib/python3.11/dist-packages/ipykernel/kernelbase.py\", line 730, in execute_request\n\n  File \"/usr/local/lib/python3.11/dist-packages/ipykernel/ipkernel.py\", line 383, in do_execute\n\n  File \"/usr/local/lib/python3.11/dist-packages/ipykernel/zmqshell.py\", line 528, in run_cell\n\n  File \"/usr/local/lib/python3.11/dist-packages/IPython/core/interactiveshell.py\", line 2975, in run_cell\n\n  File \"/usr/local/lib/python3.11/dist-packages/IPython/core/interactiveshell.py\", line 3030, in _run_cell\n\n  File \"/usr/local/lib/python3.11/dist-packages/IPython/core/async_helpers.py\", line 78, in _pseudo_sync_runner\n\n  File \"/usr/local/lib/python3.11/dist-packages/IPython/core/interactiveshell.py\", line 3257, in run_cell_async\n\n  File \"/usr/local/lib/python3.11/dist-packages/IPython/core/interactiveshell.py\", line 3473, in run_ast_nodes\n\n  File \"/usr/local/lib/python3.11/dist-packages/IPython/core/interactiveshell.py\", line 3553, in run_code\n\n  File \"<ipython-input-23-481eda171a8d>\", line 1, in <cell line: 0>\n\n  File \"/usr/local/lib/python3.11/dist-packages/keras/src/utils/traceback_utils.py\", line 117, in error_handler\n\n  File \"/usr/local/lib/python3.11/dist-packages/keras/src/backend/tensorflow/trainer.py\", line 371, in fit\n\n  File \"/usr/local/lib/python3.11/dist-packages/keras/src/backend/tensorflow/trainer.py\", line 219, in function\n\n  File \"/usr/local/lib/python3.11/dist-packages/keras/src/backend/tensorflow/trainer.py\", line 132, in multi_step_on_iterator\n\n  File \"/usr/local/lib/python3.11/dist-packages/keras/src/backend/tensorflow/trainer.py\", line 113, in one_step_on_data\n\n  File \"/usr/local/lib/python3.11/dist-packages/keras/src/backend/tensorflow/trainer.py\", line 57, in train_step\n\n  File \"/usr/local/lib/python3.11/dist-packages/keras/src/utils/traceback_utils.py\", line 117, in error_handler\n\n  File \"/usr/local/lib/python3.11/dist-packages/keras/src/layers/layer.py\", line 910, in __call__\n\n  File \"/usr/local/lib/python3.11/dist-packages/keras/src/utils/traceback_utils.py\", line 117, in error_handler\n\n  File \"/usr/local/lib/python3.11/dist-packages/keras/src/ops/operation.py\", line 58, in __call__\n\n  File \"/usr/local/lib/python3.11/dist-packages/keras/src/utils/traceback_utils.py\", line 156, in error_handler\n\n  File \"/usr/local/lib/python3.11/dist-packages/keras/src/models/sequential.py\", line 221, in call\n\n  File \"/usr/local/lib/python3.11/dist-packages/keras/src/models/functional.py\", line 183, in call\n\n  File \"/usr/local/lib/python3.11/dist-packages/keras/src/ops/function.py\", line 171, in _run_through_graph\n\n  File \"/usr/local/lib/python3.11/dist-packages/keras/src/models/functional.py\", line 643, in call\n\n  File \"/usr/local/lib/python3.11/dist-packages/keras/src/utils/traceback_utils.py\", line 117, in error_handler\n\n  File \"/usr/local/lib/python3.11/dist-packages/keras/src/layers/layer.py\", line 910, in __call__\n\n  File \"/usr/local/lib/python3.11/dist-packages/keras/src/utils/traceback_utils.py\", line 117, in error_handler\n\n  File \"/usr/local/lib/python3.11/dist-packages/keras/src/ops/operation.py\", line 58, in __call__\n\n  File \"/usr/local/lib/python3.11/dist-packages/keras/src/utils/traceback_utils.py\", line 156, in error_handler\n\n  File \"/usr/local/lib/python3.11/dist-packages/keras/src/layers/core/embedding.py\", line 140, in call\n\n  File \"/usr/local/lib/python3.11/dist-packages/keras/src/ops/numpy.py\", line 5442, in take\n\n  File \"/usr/local/lib/python3.11/dist-packages/keras/src/backend/tensorflow/numpy.py\", line 2222, in take\n\nindices[1,23] = 17747 is not in [0, 10000)\n\t [[{{node sequential_3_1/embedding_1/GatherV2}}]] [Op:__inference_multi_step_on_iterator_12570]",
          "traceback": [
            "\u001b[0;31m---------------------------------------------------------------------------\u001b[0m",
            "\u001b[0;31mInvalidArgumentError\u001b[0m                      Traceback (most recent call last)",
            "\u001b[0;32m<ipython-input-23-481eda171a8d>\u001b[0m in \u001b[0;36m<cell line: 0>\u001b[0;34m()\u001b[0m\n\u001b[0;32m----> 1\u001b[0;31m \u001b[0mhistory\u001b[0m \u001b[0;34m=\u001b[0m \u001b[0mmodel\u001b[0m\u001b[0;34m.\u001b[0m\u001b[0mfit\u001b[0m\u001b[0;34m(\u001b[0m\u001b[0mX_train\u001b[0m\u001b[0;34m,\u001b[0m \u001b[0my_train\u001b[0m\u001b[0;34m,\u001b[0m \u001b[0mepochs\u001b[0m\u001b[0;34m=\u001b[0m\u001b[0;36m10\u001b[0m\u001b[0;34m,\u001b[0m \u001b[0mvalidation_data\u001b[0m\u001b[0;34m=\u001b[0m\u001b[0;34m(\u001b[0m\u001b[0mX_test\u001b[0m\u001b[0;34m,\u001b[0m \u001b[0my_test\u001b[0m\u001b[0;34m)\u001b[0m\u001b[0;34m)\u001b[0m\u001b[0;34m\u001b[0m\u001b[0;34m\u001b[0m\u001b[0m\n\u001b[0m",
            "\u001b[0;32m/usr/local/lib/python3.11/dist-packages/keras/src/utils/traceback_utils.py\u001b[0m in \u001b[0;36merror_handler\u001b[0;34m(*args, **kwargs)\u001b[0m\n\u001b[1;32m    120\u001b[0m             \u001b[0;31m# To get the full stack trace, call:\u001b[0m\u001b[0;34m\u001b[0m\u001b[0;34m\u001b[0m\u001b[0m\n\u001b[1;32m    121\u001b[0m             \u001b[0;31m# `keras.config.disable_traceback_filtering()`\u001b[0m\u001b[0;34m\u001b[0m\u001b[0;34m\u001b[0m\u001b[0m\n\u001b[0;32m--> 122\u001b[0;31m             \u001b[0;32mraise\u001b[0m \u001b[0me\u001b[0m\u001b[0;34m.\u001b[0m\u001b[0mwith_traceback\u001b[0m\u001b[0;34m(\u001b[0m\u001b[0mfiltered_tb\u001b[0m\u001b[0;34m)\u001b[0m \u001b[0;32mfrom\u001b[0m \u001b[0;32mNone\u001b[0m\u001b[0;34m\u001b[0m\u001b[0;34m\u001b[0m\u001b[0m\n\u001b[0m\u001b[1;32m    123\u001b[0m         \u001b[0;32mfinally\u001b[0m\u001b[0;34m:\u001b[0m\u001b[0;34m\u001b[0m\u001b[0;34m\u001b[0m\u001b[0m\n\u001b[1;32m    124\u001b[0m             \u001b[0;32mdel\u001b[0m \u001b[0mfiltered_tb\u001b[0m\u001b[0;34m\u001b[0m\u001b[0;34m\u001b[0m\u001b[0m\n",
            "\u001b[0;32m/usr/local/lib/python3.11/dist-packages/tensorflow/python/eager/execute.py\u001b[0m in \u001b[0;36mquick_execute\u001b[0;34m(op_name, num_outputs, inputs, attrs, ctx, name)\u001b[0m\n\u001b[1;32m     57\u001b[0m       \u001b[0me\u001b[0m\u001b[0;34m.\u001b[0m\u001b[0mmessage\u001b[0m \u001b[0;34m+=\u001b[0m \u001b[0;34m\" name: \"\u001b[0m \u001b[0;34m+\u001b[0m \u001b[0mname\u001b[0m\u001b[0;34m\u001b[0m\u001b[0;34m\u001b[0m\u001b[0m\n\u001b[1;32m     58\u001b[0m     \u001b[0;32mraise\u001b[0m \u001b[0mcore\u001b[0m\u001b[0;34m.\u001b[0m\u001b[0m_status_to_exception\u001b[0m\u001b[0;34m(\u001b[0m\u001b[0me\u001b[0m\u001b[0;34m)\u001b[0m \u001b[0;32mfrom\u001b[0m \u001b[0;32mNone\u001b[0m\u001b[0;34m\u001b[0m\u001b[0;34m\u001b[0m\u001b[0m\n\u001b[0;32m---> 59\u001b[0;31m   \u001b[0;32mexcept\u001b[0m \u001b[0mTypeError\u001b[0m \u001b[0;32mas\u001b[0m \u001b[0me\u001b[0m\u001b[0;34m:\u001b[0m\u001b[0;34m\u001b[0m\u001b[0;34m\u001b[0m\u001b[0m\n\u001b[0m\u001b[1;32m     60\u001b[0m     \u001b[0mkeras_symbolic_tensors\u001b[0m \u001b[0;34m=\u001b[0m \u001b[0;34m[\u001b[0m\u001b[0mx\u001b[0m \u001b[0;32mfor\u001b[0m \u001b[0mx\u001b[0m \u001b[0;32min\u001b[0m \u001b[0minputs\u001b[0m \u001b[0;32mif\u001b[0m \u001b[0m_is_keras_symbolic_tensor\u001b[0m\u001b[0;34m(\u001b[0m\u001b[0mx\u001b[0m\u001b[0;34m)\u001b[0m\u001b[0;34m]\u001b[0m\u001b[0;34m\u001b[0m\u001b[0;34m\u001b[0m\u001b[0m\n\u001b[1;32m     61\u001b[0m     \u001b[0;32mif\u001b[0m \u001b[0mkeras_symbolic_tensors\u001b[0m\u001b[0;34m:\u001b[0m\u001b[0;34m\u001b[0m\u001b[0;34m\u001b[0m\u001b[0m\n",
            "\u001b[0;31mInvalidArgumentError\u001b[0m: Graph execution error:\n\nDetected at node sequential_3_1/embedding_1/GatherV2 defined at (most recent call last):\n  File \"<frozen runpy>\", line 198, in _run_module_as_main\n\n  File \"<frozen runpy>\", line 88, in _run_code\n\n  File \"/usr/local/lib/python3.11/dist-packages/colab_kernel_launcher.py\", line 37, in <module>\n\n  File \"/usr/local/lib/python3.11/dist-packages/traitlets/config/application.py\", line 992, in launch_instance\n\n  File \"/usr/local/lib/python3.11/dist-packages/ipykernel/kernelapp.py\", line 712, in start\n\n  File \"/usr/local/lib/python3.11/dist-packages/tornado/platform/asyncio.py\", line 205, in start\n\n  File \"/usr/lib/python3.11/asyncio/base_events.py\", line 608, in run_forever\n\n  File \"/usr/lib/python3.11/asyncio/base_events.py\", line 1936, in _run_once\n\n  File \"/usr/lib/python3.11/asyncio/events.py\", line 84, in _run\n\n  File \"/usr/local/lib/python3.11/dist-packages/ipykernel/kernelbase.py\", line 510, in dispatch_queue\n\n  File \"/usr/local/lib/python3.11/dist-packages/ipykernel/kernelbase.py\", line 499, in process_one\n\n  File \"/usr/local/lib/python3.11/dist-packages/ipykernel/kernelbase.py\", line 406, in dispatch_shell\n\n  File \"/usr/local/lib/python3.11/dist-packages/ipykernel/kernelbase.py\", line 730, in execute_request\n\n  File \"/usr/local/lib/python3.11/dist-packages/ipykernel/ipkernel.py\", line 383, in do_execute\n\n  File \"/usr/local/lib/python3.11/dist-packages/ipykernel/zmqshell.py\", line 528, in run_cell\n\n  File \"/usr/local/lib/python3.11/dist-packages/IPython/core/interactiveshell.py\", line 2975, in run_cell\n\n  File \"/usr/local/lib/python3.11/dist-packages/IPython/core/interactiveshell.py\", line 3030, in _run_cell\n\n  File \"/usr/local/lib/python3.11/dist-packages/IPython/core/async_helpers.py\", line 78, in _pseudo_sync_runner\n\n  File \"/usr/local/lib/python3.11/dist-packages/IPython/core/interactiveshell.py\", line 3257, in run_cell_async\n\n  File \"/usr/local/lib/python3.11/dist-packages/IPython/core/interactiveshell.py\", line 3473, in run_ast_nodes\n\n  File \"/usr/local/lib/python3.11/dist-packages/IPython/core/interactiveshell.py\", line 3553, in run_code\n\n  File \"<ipython-input-23-481eda171a8d>\", line 1, in <cell line: 0>\n\n  File \"/usr/local/lib/python3.11/dist-packages/keras/src/utils/traceback_utils.py\", line 117, in error_handler\n\n  File \"/usr/local/lib/python3.11/dist-packages/keras/src/backend/tensorflow/trainer.py\", line 371, in fit\n\n  File \"/usr/local/lib/python3.11/dist-packages/keras/src/backend/tensorflow/trainer.py\", line 219, in function\n\n  File \"/usr/local/lib/python3.11/dist-packages/keras/src/backend/tensorflow/trainer.py\", line 132, in multi_step_on_iterator\n\n  File \"/usr/local/lib/python3.11/dist-packages/keras/src/backend/tensorflow/trainer.py\", line 113, in one_step_on_data\n\n  File \"/usr/local/lib/python3.11/dist-packages/keras/src/backend/tensorflow/trainer.py\", line 57, in train_step\n\n  File \"/usr/local/lib/python3.11/dist-packages/keras/src/utils/traceback_utils.py\", line 117, in error_handler\n\n  File \"/usr/local/lib/python3.11/dist-packages/keras/src/layers/layer.py\", line 910, in __call__\n\n  File \"/usr/local/lib/python3.11/dist-packages/keras/src/utils/traceback_utils.py\", line 117, in error_handler\n\n  File \"/usr/local/lib/python3.11/dist-packages/keras/src/ops/operation.py\", line 58, in __call__\n\n  File \"/usr/local/lib/python3.11/dist-packages/keras/src/utils/traceback_utils.py\", line 156, in error_handler\n\n  File \"/usr/local/lib/python3.11/dist-packages/keras/src/models/sequential.py\", line 221, in call\n\n  File \"/usr/local/lib/python3.11/dist-packages/keras/src/models/functional.py\", line 183, in call\n\n  File \"/usr/local/lib/python3.11/dist-packages/keras/src/ops/function.py\", line 171, in _run_through_graph\n\n  File \"/usr/local/lib/python3.11/dist-packages/keras/src/models/functional.py\", line 643, in call\n\n  File \"/usr/local/lib/python3.11/dist-packages/keras/src/utils/traceback_utils.py\", line 117, in error_handler\n\n  File \"/usr/local/lib/python3.11/dist-packages/keras/src/layers/layer.py\", line 910, in __call__\n\n  File \"/usr/local/lib/python3.11/dist-packages/keras/src/utils/traceback_utils.py\", line 117, in error_handler\n\n  File \"/usr/local/lib/python3.11/dist-packages/keras/src/ops/operation.py\", line 58, in __call__\n\n  File \"/usr/local/lib/python3.11/dist-packages/keras/src/utils/traceback_utils.py\", line 156, in error_handler\n\n  File \"/usr/local/lib/python3.11/dist-packages/keras/src/layers/core/embedding.py\", line 140, in call\n\n  File \"/usr/local/lib/python3.11/dist-packages/keras/src/ops/numpy.py\", line 5442, in take\n\n  File \"/usr/local/lib/python3.11/dist-packages/keras/src/backend/tensorflow/numpy.py\", line 2222, in take\n\nindices[1,23] = 17747 is not in [0, 10000)\n\t [[{{node sequential_3_1/embedding_1/GatherV2}}]] [Op:__inference_multi_step_on_iterator_12570]"
          ]
        }
      ]
    },
    {
      "cell_type": "markdown",
      "source": [],
      "metadata": {
        "id": "cxubJ-mSGREx"
      }
    },
    {
      "cell_type": "code",
      "source": [],
      "metadata": {
        "id": "2hNokGWvFyhn"
      },
      "execution_count": null,
      "outputs": []
    }
  ]
}