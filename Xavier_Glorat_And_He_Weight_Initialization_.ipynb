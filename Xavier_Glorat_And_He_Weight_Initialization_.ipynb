{
  "nbformat": 4,
  "nbformat_minor": 0,
  "metadata": {
    "colab": {
      "provenance": [],
      "gpuType": "T4",
      "include_colab_link": true
    },
    "kernelspec": {
      "name": "python3",
      "display_name": "Python 3"
    },
    "language_info": {
      "name": "python"
    },
    "accelerator": "GPU"
  },
  "cells": [
    {
      "cell_type": "markdown",
      "metadata": {
        "id": "view-in-github",
        "colab_type": "text"
      },
      "source": [
        "<a href=\"https://colab.research.google.com/github/KARTIKPARATKAR/DEEP-LEARNING-WORK/blob/main/Xavier_Glorat_And_He_Weight_Initialization_.ipynb\" target=\"_parent\"><img src=\"https://colab.research.google.com/assets/colab-badge.svg\" alt=\"Open In Colab\"/></a>"
      ]
    },
    {
      "cell_type": "markdown",
      "source": [
        "**Xavier/Glorat** and **He** are two types of Weight initialization techniques that can be used to initialize the weight values of the neural network.\n",
        "\n",
        "Xavier/Glorat has two types -\n",
        "\n",
        "**1)Normal and 2)Uniform**\n",
        "\n",
        "He has two types -\n",
        "\n",
        "**1)Noraml and 2)Uniform.**\n",
        "\n",
        "It is obsrved practically that when you are working with tanh and sigmoid activation function , you should go with Xavier/Glorat weight initialization technique and when you are working with relu activation function then you should go with He weight initialization technique."
      ],
      "metadata": {
        "id": "lsPF3gogw5Jj"
      }
    },
    {
      "cell_type": "markdown",
      "source": [
        "Xavier initilizaer for normal = under root of (1/fan_in) where fanin is the number of inputs coming to the node.\n",
        "\n",
        "If we have to initialize 4 input weights,\n",
        "then we create a formula as np.random.randn(2,2)*root of (1/2)"
      ],
      "metadata": {
        "id": "T9VmAxPU290V"
      }
    },
    {
      "cell_type": "markdown",
      "source": [
        "Now we will try to build a neural network model and initialize the weights by Xavier/Glorat weight initialization technique."
      ],
      "metadata": {
        "id": "Jkp3mbvC6LoB"
      }
    },
    {
      "cell_type": "code",
      "source": [
        "import numpy as np\n",
        "import pandas as pd\n",
        "import matplotlib.pyplot as plt\n"
      ],
      "metadata": {
        "id": "8FIVFXrS6V6H"
      },
      "execution_count": 1,
      "outputs": []
    },
    {
      "cell_type": "markdown",
      "source": [
        "Dataset Used Is- https://www.kaggle.com/datasets/kartikparatkar/ushape"
      ],
      "metadata": {
        "id": "ilBQ28_jMcZD"
      }
    },
    {
      "cell_type": "code",
      "source": [
        "df = pd.read_csv('/content/ushape.csv')"
      ],
      "metadata": {
        "id": "HCMd2M_66b20"
      },
      "execution_count": 2,
      "outputs": []
    },
    {
      "cell_type": "code",
      "source": [
        "df.head()"
      ],
      "metadata": {
        "colab": {
          "base_uri": "https://localhost:8080/",
          "height": 206
        },
        "id": "0YsUzz186lIT",
        "outputId": "f4b28788-2df9-4dd3-c8fb-cbcebb08ae73"
      },
      "execution_count": 3,
      "outputs": [
        {
          "output_type": "execute_result",
          "data": {
            "text/plain": [
              "          x         y  class\n",
              "0  2.115098 -0.046244    1.0\n",
              "1  0.882490 -0.075756    0.0\n",
              "2 -0.055144 -0.037332    1.0\n",
              "3  0.829545 -0.539321    1.0\n",
              "4  2.112857  0.662084    1.0"
            ],
            "text/html": [
              "\n",
              "  <div id=\"df-fc084b30-f8a2-4bd4-81c6-c96a7e0d1c81\" class=\"colab-df-container\">\n",
              "    <div>\n",
              "<style scoped>\n",
              "    .dataframe tbody tr th:only-of-type {\n",
              "        vertical-align: middle;\n",
              "    }\n",
              "\n",
              "    .dataframe tbody tr th {\n",
              "        vertical-align: top;\n",
              "    }\n",
              "\n",
              "    .dataframe thead th {\n",
              "        text-align: right;\n",
              "    }\n",
              "</style>\n",
              "<table border=\"1\" class=\"dataframe\">\n",
              "  <thead>\n",
              "    <tr style=\"text-align: right;\">\n",
              "      <th></th>\n",
              "      <th>x</th>\n",
              "      <th>y</th>\n",
              "      <th>class</th>\n",
              "    </tr>\n",
              "  </thead>\n",
              "  <tbody>\n",
              "    <tr>\n",
              "      <th>0</th>\n",
              "      <td>2.115098</td>\n",
              "      <td>-0.046244</td>\n",
              "      <td>1.0</td>\n",
              "    </tr>\n",
              "    <tr>\n",
              "      <th>1</th>\n",
              "      <td>0.882490</td>\n",
              "      <td>-0.075756</td>\n",
              "      <td>0.0</td>\n",
              "    </tr>\n",
              "    <tr>\n",
              "      <th>2</th>\n",
              "      <td>-0.055144</td>\n",
              "      <td>-0.037332</td>\n",
              "      <td>1.0</td>\n",
              "    </tr>\n",
              "    <tr>\n",
              "      <th>3</th>\n",
              "      <td>0.829545</td>\n",
              "      <td>-0.539321</td>\n",
              "      <td>1.0</td>\n",
              "    </tr>\n",
              "    <tr>\n",
              "      <th>4</th>\n",
              "      <td>2.112857</td>\n",
              "      <td>0.662084</td>\n",
              "      <td>1.0</td>\n",
              "    </tr>\n",
              "  </tbody>\n",
              "</table>\n",
              "</div>\n",
              "    <div class=\"colab-df-buttons\">\n",
              "\n",
              "  <div class=\"colab-df-container\">\n",
              "    <button class=\"colab-df-convert\" onclick=\"convertToInteractive('df-fc084b30-f8a2-4bd4-81c6-c96a7e0d1c81')\"\n",
              "            title=\"Convert this dataframe to an interactive table.\"\n",
              "            style=\"display:none;\">\n",
              "\n",
              "  <svg xmlns=\"http://www.w3.org/2000/svg\" height=\"24px\" viewBox=\"0 -960 960 960\">\n",
              "    <path d=\"M120-120v-720h720v720H120Zm60-500h600v-160H180v160Zm220 220h160v-160H400v160Zm0 220h160v-160H400v160ZM180-400h160v-160H180v160Zm440 0h160v-160H620v160ZM180-180h160v-160H180v160Zm440 0h160v-160H620v160Z\"/>\n",
              "  </svg>\n",
              "    </button>\n",
              "\n",
              "  <style>\n",
              "    .colab-df-container {\n",
              "      display:flex;\n",
              "      gap: 12px;\n",
              "    }\n",
              "\n",
              "    .colab-df-convert {\n",
              "      background-color: #E8F0FE;\n",
              "      border: none;\n",
              "      border-radius: 50%;\n",
              "      cursor: pointer;\n",
              "      display: none;\n",
              "      fill: #1967D2;\n",
              "      height: 32px;\n",
              "      padding: 0 0 0 0;\n",
              "      width: 32px;\n",
              "    }\n",
              "\n",
              "    .colab-df-convert:hover {\n",
              "      background-color: #E2EBFA;\n",
              "      box-shadow: 0px 1px 2px rgba(60, 64, 67, 0.3), 0px 1px 3px 1px rgba(60, 64, 67, 0.15);\n",
              "      fill: #174EA6;\n",
              "    }\n",
              "\n",
              "    .colab-df-buttons div {\n",
              "      margin-bottom: 4px;\n",
              "    }\n",
              "\n",
              "    [theme=dark] .colab-df-convert {\n",
              "      background-color: #3B4455;\n",
              "      fill: #D2E3FC;\n",
              "    }\n",
              "\n",
              "    [theme=dark] .colab-df-convert:hover {\n",
              "      background-color: #434B5C;\n",
              "      box-shadow: 0px 1px 3px 1px rgba(0, 0, 0, 0.15);\n",
              "      filter: drop-shadow(0px 1px 2px rgba(0, 0, 0, 0.3));\n",
              "      fill: #FFFFFF;\n",
              "    }\n",
              "  </style>\n",
              "\n",
              "    <script>\n",
              "      const buttonEl =\n",
              "        document.querySelector('#df-fc084b30-f8a2-4bd4-81c6-c96a7e0d1c81 button.colab-df-convert');\n",
              "      buttonEl.style.display =\n",
              "        google.colab.kernel.accessAllowed ? 'block' : 'none';\n",
              "\n",
              "      async function convertToInteractive(key) {\n",
              "        const element = document.querySelector('#df-fc084b30-f8a2-4bd4-81c6-c96a7e0d1c81');\n",
              "        const dataTable =\n",
              "          await google.colab.kernel.invokeFunction('convertToInteractive',\n",
              "                                                    [key], {});\n",
              "        if (!dataTable) return;\n",
              "\n",
              "        const docLinkHtml = 'Like what you see? Visit the ' +\n",
              "          '<a target=\"_blank\" href=https://colab.research.google.com/notebooks/data_table.ipynb>data table notebook</a>'\n",
              "          + ' to learn more about interactive tables.';\n",
              "        element.innerHTML = '';\n",
              "        dataTable['output_type'] = 'display_data';\n",
              "        await google.colab.output.renderOutput(dataTable, element);\n",
              "        const docLink = document.createElement('div');\n",
              "        docLink.innerHTML = docLinkHtml;\n",
              "        element.appendChild(docLink);\n",
              "      }\n",
              "    </script>\n",
              "  </div>\n",
              "\n",
              "\n",
              "<div id=\"df-f119ddbe-1eaf-4e54-8721-b01383c17586\">\n",
              "  <button class=\"colab-df-quickchart\" onclick=\"quickchart('df-f119ddbe-1eaf-4e54-8721-b01383c17586')\"\n",
              "            title=\"Suggest charts\"\n",
              "            style=\"display:none;\">\n",
              "\n",
              "<svg xmlns=\"http://www.w3.org/2000/svg\" height=\"24px\"viewBox=\"0 0 24 24\"\n",
              "     width=\"24px\">\n",
              "    <g>\n",
              "        <path d=\"M19 3H5c-1.1 0-2 .9-2 2v14c0 1.1.9 2 2 2h14c1.1 0 2-.9 2-2V5c0-1.1-.9-2-2-2zM9 17H7v-7h2v7zm4 0h-2V7h2v10zm4 0h-2v-4h2v4z\"/>\n",
              "    </g>\n",
              "</svg>\n",
              "  </button>\n",
              "\n",
              "<style>\n",
              "  .colab-df-quickchart {\n",
              "      --bg-color: #E8F0FE;\n",
              "      --fill-color: #1967D2;\n",
              "      --hover-bg-color: #E2EBFA;\n",
              "      --hover-fill-color: #174EA6;\n",
              "      --disabled-fill-color: #AAA;\n",
              "      --disabled-bg-color: #DDD;\n",
              "  }\n",
              "\n",
              "  [theme=dark] .colab-df-quickchart {\n",
              "      --bg-color: #3B4455;\n",
              "      --fill-color: #D2E3FC;\n",
              "      --hover-bg-color: #434B5C;\n",
              "      --hover-fill-color: #FFFFFF;\n",
              "      --disabled-bg-color: #3B4455;\n",
              "      --disabled-fill-color: #666;\n",
              "  }\n",
              "\n",
              "  .colab-df-quickchart {\n",
              "    background-color: var(--bg-color);\n",
              "    border: none;\n",
              "    border-radius: 50%;\n",
              "    cursor: pointer;\n",
              "    display: none;\n",
              "    fill: var(--fill-color);\n",
              "    height: 32px;\n",
              "    padding: 0;\n",
              "    width: 32px;\n",
              "  }\n",
              "\n",
              "  .colab-df-quickchart:hover {\n",
              "    background-color: var(--hover-bg-color);\n",
              "    box-shadow: 0 1px 2px rgba(60, 64, 67, 0.3), 0 1px 3px 1px rgba(60, 64, 67, 0.15);\n",
              "    fill: var(--button-hover-fill-color);\n",
              "  }\n",
              "\n",
              "  .colab-df-quickchart-complete:disabled,\n",
              "  .colab-df-quickchart-complete:disabled:hover {\n",
              "    background-color: var(--disabled-bg-color);\n",
              "    fill: var(--disabled-fill-color);\n",
              "    box-shadow: none;\n",
              "  }\n",
              "\n",
              "  .colab-df-spinner {\n",
              "    border: 2px solid var(--fill-color);\n",
              "    border-color: transparent;\n",
              "    border-bottom-color: var(--fill-color);\n",
              "    animation:\n",
              "      spin 1s steps(1) infinite;\n",
              "  }\n",
              "\n",
              "  @keyframes spin {\n",
              "    0% {\n",
              "      border-color: transparent;\n",
              "      border-bottom-color: var(--fill-color);\n",
              "      border-left-color: var(--fill-color);\n",
              "    }\n",
              "    20% {\n",
              "      border-color: transparent;\n",
              "      border-left-color: var(--fill-color);\n",
              "      border-top-color: var(--fill-color);\n",
              "    }\n",
              "    30% {\n",
              "      border-color: transparent;\n",
              "      border-left-color: var(--fill-color);\n",
              "      border-top-color: var(--fill-color);\n",
              "      border-right-color: var(--fill-color);\n",
              "    }\n",
              "    40% {\n",
              "      border-color: transparent;\n",
              "      border-right-color: var(--fill-color);\n",
              "      border-top-color: var(--fill-color);\n",
              "    }\n",
              "    60% {\n",
              "      border-color: transparent;\n",
              "      border-right-color: var(--fill-color);\n",
              "    }\n",
              "    80% {\n",
              "      border-color: transparent;\n",
              "      border-right-color: var(--fill-color);\n",
              "      border-bottom-color: var(--fill-color);\n",
              "    }\n",
              "    90% {\n",
              "      border-color: transparent;\n",
              "      border-bottom-color: var(--fill-color);\n",
              "    }\n",
              "  }\n",
              "</style>\n",
              "\n",
              "  <script>\n",
              "    async function quickchart(key) {\n",
              "      const quickchartButtonEl =\n",
              "        document.querySelector('#' + key + ' button');\n",
              "      quickchartButtonEl.disabled = true;  // To prevent multiple clicks.\n",
              "      quickchartButtonEl.classList.add('colab-df-spinner');\n",
              "      try {\n",
              "        const charts = await google.colab.kernel.invokeFunction(\n",
              "            'suggestCharts', [key], {});\n",
              "      } catch (error) {\n",
              "        console.error('Error during call to suggestCharts:', error);\n",
              "      }\n",
              "      quickchartButtonEl.classList.remove('colab-df-spinner');\n",
              "      quickchartButtonEl.classList.add('colab-df-quickchart-complete');\n",
              "    }\n",
              "    (() => {\n",
              "      let quickchartButtonEl =\n",
              "        document.querySelector('#df-f119ddbe-1eaf-4e54-8721-b01383c17586 button');\n",
              "      quickchartButtonEl.style.display =\n",
              "        google.colab.kernel.accessAllowed ? 'block' : 'none';\n",
              "    })();\n",
              "  </script>\n",
              "</div>\n",
              "\n",
              "    </div>\n",
              "  </div>\n"
            ],
            "application/vnd.google.colaboratory.intrinsic+json": {
              "type": "dataframe",
              "variable_name": "df",
              "summary": "{\n  \"name\": \"df\",\n  \"rows\": 99,\n  \"fields\": [\n    {\n      \"column\": \"x\",\n      \"properties\": {\n        \"dtype\": \"number\",\n        \"std\": 0.8943130566096507,\n        \"min\": -1.318500344394381,\n        \"max\": 2.181371683049025,\n        \"num_unique_values\": 99,\n        \"samples\": [\n          0.1273314190904385,\n          0.6417403675063451,\n          0.2186232335250059\n        ],\n        \"semantic_type\": \"\",\n        \"description\": \"\"\n      }\n    },\n    {\n      \"column\": \"y\",\n      \"properties\": {\n        \"dtype\": \"number\",\n        \"std\": 0.5909086142970595,\n        \"min\": -1.0357020680498332,\n        \"max\": 1.5718993127141032,\n        \"num_unique_values\": 99,\n        \"samples\": [\n          -0.3796548967118949,\n          -0.3936946837063957,\n          -0.6525211867631453\n        ],\n        \"semantic_type\": \"\",\n        \"description\": \"\"\n      }\n    },\n    {\n      \"column\": \"class\",\n      \"properties\": {\n        \"dtype\": \"number\",\n        \"std\": 0.5025189076296059,\n        \"min\": 0.0,\n        \"max\": 1.0,\n        \"num_unique_values\": 2,\n        \"samples\": [\n          0.0,\n          1.0\n        ],\n        \"semantic_type\": \"\",\n        \"description\": \"\"\n      }\n    }\n  ]\n}"
            }
          },
          "metadata": {},
          "execution_count": 3
        }
      ]
    },
    {
      "cell_type": "code",
      "source": [
        "plt.scatter(df['x'],df['y'],c=df['class'])"
      ],
      "metadata": {
        "colab": {
          "base_uri": "https://localhost:8080/",
          "height": 447
        },
        "id": "bgJgzW7_6mzp",
        "outputId": "e89d43f1-0eb9-4ed9-928c-45b431ddc5d6"
      },
      "execution_count": 4,
      "outputs": [
        {
          "output_type": "execute_result",
          "data": {
            "text/plain": [
              "<matplotlib.collections.PathCollection at 0x78f60b6aab10>"
            ]
          },
          "metadata": {},
          "execution_count": 4
        },
        {
          "output_type": "display_data",
          "data": {
            "text/plain": [
              "<Figure size 640x480 with 1 Axes>"
            ],
            "image/png": "[encoded data removed]"
          },
          "metadata": {}
        }
      ]
    },
    {
      "cell_type": "code",
      "source": [
        "x=df.iloc[:,0:2].values\n",
        "y=df.iloc[:,-1].values"
      ],
      "metadata": {
        "id": "Jr46FTvk6wlr"
      },
      "execution_count": 5,
      "outputs": []
    },
    {
      "cell_type": "code",
      "source": [
        "x"
      ],
      "metadata": {
        "colab": {
          "base_uri": "https://localhost:8080/"
        },
        "id": "5bqkXffc665V",
        "outputId": "233af93f-cb61-4ab6-baa7-1ee63da49754"
      },
      "execution_count": 6,
      "outputs": [
        {
          "output_type": "execute_result",
          "data": {
            "text/plain": [
              "array([[ 2.11509784, -0.04624397],\n",
              "       [ 0.88248972, -0.07575606],\n",
              "       [-0.0551441 , -0.03733246],\n",
              "       [ 0.82954503, -0.53932149],\n",
              "       [ 2.11285708,  0.66208353],\n",
              "       [ 0.5696927 ,  0.33744136],\n",
              "       [ 0.95217454, -0.75307471],\n",
              "       [-0.02922115,  0.39287336],\n",
              "       [ 1.71579557,  0.36069454],\n",
              "       [-0.27883014,  0.61420539],\n",
              "       [ 2.00344509, -0.3091496 ],\n",
              "       [ 1.50009616, -0.74636376],\n",
              "       [ 1.22540835,  1.19793017],\n",
              "       [ 0.46730819,  0.54703192],\n",
              "       [-0.36653222,  1.11971633],\n",
              "       [ 0.30124459,  1.23315697],\n",
              "       [ 0.30430746,  0.82373935],\n",
              "       [-0.23712492,  0.77876034],\n",
              "       [ 1.16339832,  0.55290238],\n",
              "       [-0.59702417,  0.6572361 ],\n",
              "       [ 0.46356735, -0.1951543 ],\n",
              "       [ 0.68451111,  0.75287685],\n",
              "       [ 0.70515699, -0.45892444],\n",
              "       [-0.65805008, -0.12944211],\n",
              "       [-0.74662946, -0.3829632 ],\n",
              "       [ 0.60585226,  0.31252842],\n",
              "       [ 2.18137168, -0.02291747],\n",
              "       [ 1.91980633,  0.17247329],\n",
              "       [ 1.4834364 , -0.10517023],\n",
              "       [ 0.47404723, -0.14575067],\n",
              "       [ 1.05614605, -1.03570207],\n",
              "       [ 1.86500732, -0.01107874],\n",
              "       [ 0.4194721 , -0.32478101],\n",
              "       [ 0.06873258,  0.56648467],\n",
              "       [-0.17332432,  1.00215131],\n",
              "       [ 0.12412421,  1.00062892],\n",
              "       [ 0.18121142,  0.24717743],\n",
              "       [-0.25451559,  0.19317272],\n",
              "       [ 1.02580668, -0.62574566],\n",
              "       [ 1.52002143, -0.04515581],\n",
              "       [ 0.64174037, -0.39369468],\n",
              "       [-0.87615589,  0.0465662 ],\n",
              "       [-1.06964997,  0.13666025],\n",
              "       [ 1.02658765,  0.37782458],\n",
              "       [ 0.93131325,  1.38517841],\n",
              "       [ 0.67680544,  1.57189931],\n",
              "       [-0.36885733,  0.72886601],\n",
              "       [-1.02465495,  0.16190215],\n",
              "       [ 0.77455385,  0.15375803],\n",
              "       [ 1.4045116 , -0.00705701],\n",
              "       [-0.38147174, -0.23488747],\n",
              "       [ 0.72155224,  0.44721658],\n",
              "       [-0.51346686,  0.67869095],\n",
              "       [ 0.32118546,  0.28668667],\n",
              "       [ 0.1953628 ,  0.16085107],\n",
              "       [ 0.52824196,  0.98300993],\n",
              "       [-0.2216539 ,  0.25160139],\n",
              "       [ 0.22334676,  1.32217183],\n",
              "       [-0.10704572,  0.56178326],\n",
              "       [ 0.63651685,  0.75444825],\n",
              "       [-0.37227848,  0.99291317],\n",
              "       [ 0.20718083, -0.09767143],\n",
              "       [ 0.12733142, -0.3796549 ],\n",
              "       [ 0.71435231, -0.79994161],\n",
              "       [ 1.09487814, -0.36841845],\n",
              "       [-0.14814362,  0.96158657],\n",
              "       [ 1.586188  , -0.62984517],\n",
              "       [ 0.74444551,  0.57661371],\n",
              "       [ 2.18011028, -0.69977751],\n",
              "       [ 0.24575594,  0.8496383 ],\n",
              "       [-0.95003581,  0.90361699],\n",
              "       [-0.88230758,  0.07249044],\n",
              "       [ 2.02297079,  0.12325148],\n",
              "       [ 2.14577321,  0.46296362],\n",
              "       [ 0.35536468, -0.67847989],\n",
              "       [ 0.34665026,  1.11570676],\n",
              "       [ 1.7392373 ,  0.45900352],\n",
              "       [ 0.63856467, -0.44718443],\n",
              "       [ 1.2876687 , -0.4910366 ],\n",
              "       [-0.13772607,  1.2453262 ],\n",
              "       [-0.56175303,  1.05486051],\n",
              "       [ 1.29003748, -0.20691405],\n",
              "       [-0.87539365,  0.50543423],\n",
              "       [-0.92858249, -0.45631991],\n",
              "       [ 0.02493632,  0.10747958],\n",
              "       [ 0.1972559 , -0.06801668],\n",
              "       [ 0.73346056,  0.28161929],\n",
              "       [ 1.68294434, -0.2020423 ],\n",
              "       [ 0.50764124, -0.11731979],\n",
              "       [ 1.66760217, -0.42485665],\n",
              "       [-0.82172282,  0.63141066],\n",
              "       [ 0.30170903,  0.78603534],\n",
              "       [ 1.37671505, -0.80915107],\n",
              "       [ 1.17037551,  0.59840653],\n",
              "       [ 1.69945309,  0.58771967],\n",
              "       [ 0.21862323, -0.65252119],\n",
              "       [ 0.95291428, -0.41976564],\n",
              "       [-1.31850034,  0.42311235],\n",
              "       [-1.29681764,  0.18414709]])"
            ]
          },
          "metadata": {},
          "execution_count": 6
        }
      ]
    },
    {
      "cell_type": "code",
      "source": [
        "import tensorflow\n",
        "from tensorflow import keras\n",
        "from keras import Sequential\n",
        "from keras.layers import Dense"
      ],
      "metadata": {
        "id": "uPtq1q0K69H_"
      },
      "execution_count": 7,
      "outputs": []
    },
    {
      "cell_type": "code",
      "source": [
        "model = Sequential()\n",
        "model.add(Dense(10,activation='tanh',input_dim=2))\n",
        "model.add(Dense(10,activation='tanh'))\n",
        "model.add(Dense(10,activation='tanh'))\n",
        "model.add(Dense(10,activation='tanh'))\n",
        "model.add(Dense(1,activation='sigmoid'))\n",
        "model.summary()"
      ],
      "metadata": {
        "colab": {
          "base_uri": "https://localhost:8080/",
          "height": 359
        },
        "id": "HL92d4Zs7V8O",
        "outputId": "c6eb1836-699a-412a-93ea-60e7d1737cd2"
      },
      "execution_count": 8,
      "outputs": [
        {
          "output_type": "stream",
          "name": "stderr",
          "text": [
            "/usr/local/lib/python3.11/dist-packages/keras/src/layers/core/dense.py:87: UserWarning: Do not pass an `input_shape`/`input_dim` argument to a layer. When using Sequential models, prefer using an `Input(shape)` object as the first layer in the model instead.\n",
            "  super().__init__(activity_regularizer=activity_regularizer, **kwargs)\n"
          ]
        },
        {
          "output_type": "display_data",
          "data": {
            "text/plain": [
              "\u001b[1mModel: \"sequential\"\u001b[0m\n"
            ],
            "text/html": [
              "<pre style=\"white-space:pre;overflow-x:auto;line-height:normal;font-family:Menlo,'DejaVu Sans Mono',consolas,'Courier New',monospace\"><span style=\"font-weight: bold\">Model: \"sequential\"</span>\n",
              "</pre>\n"
            ]
          },
          "metadata": {}
        },
        {
          "output_type": "display_data",
          "data": {
            "text/plain": [
              "┏━━━━━━━━━━━━━━━━━━━━━━━━━━━━━━━━━━━━━━┳━━━━━━━━━━━━━━━━━━━━━━━━━━━━━┳━━━━━━━━━━━━━━━━━┓\n",
              "┃\u001b[1m \u001b[0m\u001b[1mLayer (type)                        \u001b[0m\u001b[1m \u001b[0m┃\u001b[1m \u001b[0m\u001b[1mOutput Shape               \u001b[0m\u001b[1m \u001b[0m┃\u001b[1m \u001b[0m\u001b[1m        Param #\u001b[0m\u001b[1m \u001b[0m┃\n",
              "┡━━━━━━━━━━━━━━━━━━━━━━━━━━━━━━━━━━━━━━╇━━━━━━━━━━━━━━━━━━━━━━━━━━━━━╇━━━━━━━━━━━━━━━━━┩\n",
              "│ dense (\u001b[38;5;33mDense\u001b[0m)                        │ (\u001b[38;5;45mNone\u001b[0m, \u001b[38;5;34m10\u001b[0m)                  │              \u001b[38;5;34m30\u001b[0m │\n",
              "├──────────────────────────────────────┼─────────────────────────────┼─────────────────┤\n",
              "│ dense_1 (\u001b[38;5;33mDense\u001b[0m)                      │ (\u001b[38;5;45mNone\u001b[0m, \u001b[38;5;34m10\u001b[0m)                  │             \u001b[38;5;34m110\u001b[0m │\n",
              "├──────────────────────────────────────┼─────────────────────────────┼─────────────────┤\n",
              "│ dense_2 (\u001b[38;5;33mDense\u001b[0m)                      │ (\u001b[38;5;45mNone\u001b[0m, \u001b[38;5;34m10\u001b[0m)                  │             \u001b[38;5;34m110\u001b[0m │\n",
              "├──────────────────────────────────────┼─────────────────────────────┼─────────────────┤\n",
              "│ dense_3 (\u001b[38;5;33mDense\u001b[0m)                      │ (\u001b[38;5;45mNone\u001b[0m, \u001b[38;5;34m10\u001b[0m)                  │             \u001b[38;5;34m110\u001b[0m │\n",
              "├──────────────────────────────────────┼─────────────────────────────┼─────────────────┤\n",
              "│ dense_4 (\u001b[38;5;33mDense\u001b[0m)                      │ (\u001b[38;5;45mNone\u001b[0m, \u001b[38;5;34m1\u001b[0m)                   │              \u001b[38;5;34m11\u001b[0m │\n",
              "└──────────────────────────────────────┴─────────────────────────────┴─────────────────┘\n"
            ],
            "text/html": [
              "<pre style=\"white-space:pre;overflow-x:auto;line-height:normal;font-family:Menlo,'DejaVu Sans Mono',consolas,'Courier New',monospace\">┏━━━━━━━━━━━━━━━━━━━━━━━━━━━━━━━━━━━━━━┳━━━━━━━━━━━━━━━━━━━━━━━━━━━━━┳━━━━━━━━━━━━━━━━━┓\n",
              "┃<span style=\"font-weight: bold\"> Layer (type)                         </span>┃<span style=\"font-weight: bold\"> Output Shape                </span>┃<span style=\"font-weight: bold\">         Param # </span>┃\n",
              "┡━━━━━━━━━━━━━━━━━━━━━━━━━━━━━━━━━━━━━━╇━━━━━━━━━━━━━━━━━━━━━━━━━━━━━╇━━━━━━━━━━━━━━━━━┩\n",
              "│ dense (<span style=\"color: #0087ff; text-decoration-color: #0087ff\">Dense</span>)                        │ (<span style=\"color: #00d7ff; text-decoration-color: #00d7ff\">None</span>, <span style=\"color: #00af00; text-decoration-color: #00af00\">10</span>)                  │              <span style=\"color: #00af00; text-decoration-color: #00af00\">30</span> │\n",
              "├──────────────────────────────────────┼─────────────────────────────┼─────────────────┤\n",
              "│ dense_1 (<span style=\"color: #0087ff; text-decoration-color: #0087ff\">Dense</span>)                      │ (<span style=\"color: #00d7ff; text-decoration-color: #00d7ff\">None</span>, <span style=\"color: #00af00; text-decoration-color: #00af00\">10</span>)                  │             <span style=\"color: #00af00; text-decoration-color: #00af00\">110</span> │\n",
              "├──────────────────────────────────────┼─────────────────────────────┼─────────────────┤\n",
              "│ dense_2 (<span style=\"color: #0087ff; text-decoration-color: #0087ff\">Dense</span>)                      │ (<span style=\"color: #00d7ff; text-decoration-color: #00d7ff\">None</span>, <span style=\"color: #00af00; text-decoration-color: #00af00\">10</span>)                  │             <span style=\"color: #00af00; text-decoration-color: #00af00\">110</span> │\n",
              "├──────────────────────────────────────┼─────────────────────────────┼─────────────────┤\n",
              "│ dense_3 (<span style=\"color: #0087ff; text-decoration-color: #0087ff\">Dense</span>)                      │ (<span style=\"color: #00d7ff; text-decoration-color: #00d7ff\">None</span>, <span style=\"color: #00af00; text-decoration-color: #00af00\">10</span>)                  │             <span style=\"color: #00af00; text-decoration-color: #00af00\">110</span> │\n",
              "├──────────────────────────────────────┼─────────────────────────────┼─────────────────┤\n",
              "│ dense_4 (<span style=\"color: #0087ff; text-decoration-color: #0087ff\">Dense</span>)                      │ (<span style=\"color: #00d7ff; text-decoration-color: #00d7ff\">None</span>, <span style=\"color: #00af00; text-decoration-color: #00af00\">1</span>)                   │              <span style=\"color: #00af00; text-decoration-color: #00af00\">11</span> │\n",
              "└──────────────────────────────────────┴─────────────────────────────┴─────────────────┘\n",
              "</pre>\n"
            ]
          },
          "metadata": {}
        },
        {
          "output_type": "display_data",
          "data": {
            "text/plain": [
              "\u001b[1m Total params: \u001b[0m\u001b[38;5;34m371\u001b[0m (1.45 KB)\n"
            ],
            "text/html": [
              "<pre style=\"white-space:pre;overflow-x:auto;line-height:normal;font-family:Menlo,'DejaVu Sans Mono',consolas,'Courier New',monospace\"><span style=\"font-weight: bold\"> Total params: </span><span style=\"color: #00af00; text-decoration-color: #00af00\">371</span> (1.45 KB)\n",
              "</pre>\n"
            ]
          },
          "metadata": {}
        },
        {
          "output_type": "display_data",
          "data": {
            "text/plain": [
              "\u001b[1m Trainable params: \u001b[0m\u001b[38;5;34m371\u001b[0m (1.45 KB)\n"
            ],
            "text/html": [
              "<pre style=\"white-space:pre;overflow-x:auto;line-height:normal;font-family:Menlo,'DejaVu Sans Mono',consolas,'Courier New',monospace\"><span style=\"font-weight: bold\"> Trainable params: </span><span style=\"color: #00af00; text-decoration-color: #00af00\">371</span> (1.45 KB)\n",
              "</pre>\n"
            ]
          },
          "metadata": {}
        },
        {
          "output_type": "display_data",
          "data": {
            "text/plain": [
              "\u001b[1m Non-trainable params: \u001b[0m\u001b[38;5;34m0\u001b[0m (0.00 B)\n"
            ],
            "text/html": [
              "<pre style=\"white-space:pre;overflow-x:auto;line-height:normal;font-family:Menlo,'DejaVu Sans Mono',consolas,'Courier New',monospace\"><span style=\"font-weight: bold\"> Non-trainable params: </span><span style=\"color: #00af00; text-decoration-color: #00af00\">0</span> (0.00 B)\n",
              "</pre>\n"
            ]
          },
          "metadata": {}
        }
      ]
    },
    {
      "cell_type": "code",
      "source": [
        "model.get_weights()\n",
        "\n",
        "#These are the weights initialized be keras inbuild library"
      ],
      "metadata": {
        "colab": {
          "base_uri": "https://localhost:8080/"
        },
        "id": "P7aF--uu7qgt",
        "outputId": "2a170b58-f7b9-4b69-d88f-c5aa306a2576"
      },
      "execution_count": 9,
      "outputs": [
        {
          "output_type": "execute_result",
          "data": {
            "text/plain": [
              "[array([[-0.62824243, -0.01903623, -0.14831394, -0.5944376 , -0.5463703 ,\n",
              "          0.60001427,  0.54724663,  0.56024164,  0.06059688, -0.42086932],\n",
              "        [-0.27879363,  0.35240525, -0.28891042,  0.03366727, -0.22343478,\n",
              "          0.21736515, -0.3536569 ,  0.44160336,  0.39069754,  0.13041413]],\n",
              "       dtype=float32),\n",
              " array([0., 0., 0., 0., 0., 0., 0., 0., 0., 0.], dtype=float32),\n",
              " array([[-1.90819830e-01,  1.04760110e-01, -3.19536805e-01,\n",
              "         -4.71734524e-01,  2.05134034e-01,  5.14962673e-02,\n",
              "         -5.15126169e-01, -2.94532597e-01,  1.47598684e-01,\n",
              "          3.24669242e-01],\n",
              "        [-7.33962953e-02, -8.67662132e-02, -4.64929610e-01,\n",
              "          3.48822534e-01, -1.94123298e-01, -4.12673831e-01,\n",
              "         -2.65169919e-01, -1.91543013e-01,  4.72064734e-01,\n",
              "          6.07396364e-02],\n",
              "        [ 4.90254760e-02, -2.44756013e-01,  5.98110557e-02,\n",
              "         -4.96987700e-02,  3.52588415e-01,  4.28644121e-01,\n",
              "         -3.94161403e-01,  5.36722183e-01,  4.96147990e-01,\n",
              "         -2.78034985e-01],\n",
              "        [-2.06710070e-01,  1.64134681e-01, -5.31922817e-01,\n",
              "          1.71752393e-01,  2.88044095e-01, -1.88573837e-01,\n",
              "          4.20140564e-01, -1.58299416e-01,  1.09016895e-04,\n",
              "         -3.27909917e-01],\n",
              "        [-2.65834481e-01,  1.56814754e-01, -1.00240201e-01,\n",
              "          1.92629099e-01,  3.19188535e-01,  1.83445573e-01,\n",
              "          2.06427872e-01, -5.25061250e-01,  4.87338305e-02,\n",
              "          1.68684244e-01],\n",
              "        [ 2.84967840e-01, -4.83170956e-01,  1.22152090e-01,\n",
              "         -1.61623001e-01,  1.74789429e-02, -4.20081258e-01,\n",
              "          2.86196411e-01, -4.33163613e-01,  1.18466675e-01,\n",
              "          6.67735934e-02],\n",
              "        [-2.30169266e-01, -2.36621201e-01, -1.04740620e-01,\n",
              "         -3.03651750e-01, -3.71441305e-01,  2.04779088e-01,\n",
              "          1.01772368e-01, -3.04274797e-01, -2.38905549e-02,\n",
              "         -1.30949110e-01],\n",
              "        [ 1.07567310e-02,  5.27292967e-01,  4.62498188e-01,\n",
              "         -4.70526725e-01,  1.01323545e-01, -3.84866595e-01,\n",
              "         -5.42022288e-01,  4.45460677e-02,  3.29730809e-01,\n",
              "         -1.73634529e-01],\n",
              "        [-2.49348640e-01, -3.72090459e-01,  2.62611091e-01,\n",
              "          1.38317466e-01, -2.02611208e-01, -3.05549860e-01,\n",
              "         -1.28538072e-01,  4.53539848e-01, -4.09471989e-02,\n",
              "         -4.52041030e-02],\n",
              "        [-5.46518564e-01,  8.02134871e-02,  4.60714221e-01,\n",
              "         -4.08673823e-01,  4.23442185e-01, -4.47797596e-01,\n",
              "          2.82961547e-01,  2.09621668e-01, -1.79921657e-01,\n",
              "          3.60096931e-01]], dtype=float32),\n",
              " array([0., 0., 0., 0., 0., 0., 0., 0., 0., 0.], dtype=float32),\n",
              " array([[-0.01658064,  0.37268007,  0.2670859 , -0.30448437,  0.4423623 ,\n",
              "         -0.39220154, -0.4947602 , -0.01158625, -0.5369606 , -0.50510347],\n",
              "        [-0.1414944 , -0.33315676, -0.4920949 , -0.41457272, -0.53457516,\n",
              "          0.06563443, -0.26865897,  0.16913295,  0.09670937, -0.0838199 ],\n",
              "        [ 0.06439465,  0.06469786, -0.07991481, -0.11258277, -0.53178287,\n",
              "         -0.10806537,  0.01030672,  0.3847788 , -0.54535896,  0.15315115],\n",
              "        [ 0.25703824, -0.43389073,  0.36157322,  0.17996567, -0.24879351,\n",
              "          0.0086779 , -0.16249925,  0.2966233 ,  0.37834138, -0.10760427],\n",
              "        [ 0.39648622,  0.46515548,  0.37906277,  0.2501306 , -0.05860156,\n",
              "          0.00904554,  0.1610505 , -0.14867082,  0.1484201 ,  0.48558486],\n",
              "        [ 0.3573379 ,  0.48348546,  0.09374493,  0.1070506 ,  0.1336897 ,\n",
              "         -0.5462987 , -0.13792166,  0.48563898, -0.44541022, -0.07857892],\n",
              "        [ 0.423429  , -0.3861363 , -0.3270816 ,  0.51579213,  0.34150326,\n",
              "         -0.39028725, -0.4350612 ,  0.41209626,  0.5133059 ,  0.34403116],\n",
              "        [ 0.26025254,  0.4473868 , -0.22641686, -0.26170036,  0.11117673,\n",
              "         -0.38283047,  0.49393892, -0.14036626, -0.06496179, -0.08247849],\n",
              "        [ 0.26158494, -0.32194585,  0.334302  , -0.3477149 , -0.27288947,\n",
              "         -0.26629403, -0.408573  ,  0.08350766, -0.06856808,  0.33081454],\n",
              "        [-0.51077527, -0.46788573, -0.3161577 , -0.46033764,  0.00502306,\n",
              "         -0.14747465,  0.06936949, -0.34621483,  0.3992223 , -0.5156036 ]],\n",
              "       dtype=float32),\n",
              " array([0., 0., 0., 0., 0., 0., 0., 0., 0., 0.], dtype=float32),\n",
              " array([[-0.38602883, -0.35937816, -0.35954416, -0.11773628,  0.24731731,\n",
              "         -0.50856715, -0.40083373, -0.22460142, -0.04699314, -0.03472054],\n",
              "        [ 0.4404701 ,  0.02004737, -0.04832694,  0.30702025, -0.06836948,\n",
              "         -0.18305811,  0.30292165,  0.4967326 ,  0.4955243 , -0.42681918],\n",
              "        [-0.22158265, -0.14660573, -0.22321734,  0.24610782,  0.35866922,\n",
              "          0.002235  ,  0.4403497 , -0.12733155, -0.09552169, -0.42368245],\n",
              "        [ 0.41354758,  0.3573876 ,  0.4305085 ,  0.16269433, -0.23240298,\n",
              "         -0.06068218, -0.33402085, -0.11826763,  0.49230862,  0.5351316 ],\n",
              "        [-0.3082556 , -0.09986201,  0.15037906,  0.17235816,  0.03997171,\n",
              "         -0.1430288 , -0.444844  , -0.07743144,  0.44764888, -0.40921915],\n",
              "        [ 0.51291823, -0.15159336,  0.51725304, -0.14237863,  0.14781642,\n",
              "         -0.41727978, -0.30351675, -0.25065058,  0.3043546 ,  0.3732468 ],\n",
              "        [-0.00396252,  0.03854167,  0.20100743, -0.53770995, -0.35749382,\n",
              "         -0.21572724,  0.543952  ,  0.3877992 ,  0.40263546,  0.32442856],\n",
              "        [ 0.49940372,  0.07533628, -0.0480057 ,  0.28857547,  0.21218169,\n",
              "          0.51080596,  0.0463326 ,  0.30487198,  0.3650927 , -0.269323  ],\n",
              "        [ 0.22792083,  0.37272525, -0.06675175,  0.15230745, -0.4426086 ,\n",
              "          0.3513204 ,  0.22806615, -0.09719858, -0.40840846,  0.02734667],\n",
              "        [-0.02684653, -0.34701312, -0.4293787 , -0.1784417 , -0.5195971 ,\n",
              "         -0.07909304, -0.2525304 ,  0.08054906, -0.4758774 ,  0.2544883 ]],\n",
              "       dtype=float32),\n",
              " array([0., 0., 0., 0., 0., 0., 0., 0., 0., 0.], dtype=float32),\n",
              " array([[ 0.13605678],\n",
              "        [-0.3917033 ],\n",
              "        [ 0.6206842 ],\n",
              "        [ 0.0384447 ],\n",
              "        [-0.6631379 ],\n",
              "        [ 0.4232213 ],\n",
              "        [ 0.05814284],\n",
              "        [-0.5662173 ],\n",
              "        [ 0.22994131],\n",
              "        [ 0.2006154 ]], dtype=float32),\n",
              " array([0.], dtype=float32)]"
            ]
          },
          "metadata": {},
          "execution_count": 9
        }
      ]
    },
    {
      "cell_type": "code",
      "source": [
        "initial_weights = model.get_weights()"
      ],
      "metadata": {
        "id": "FmanQPOF9Gbm"
      },
      "execution_count": 10,
      "outputs": []
    },
    {
      "cell_type": "markdown",
      "source": [
        "**Now we will apply Xavier/Glorat formula to initilize the weights**"
      ],
      "metadata": {
        "id": "zKNzwyfV73oT"
      }
    },
    {
      "cell_type": "code",
      "source": [
        "initial_weights[0] = np.random.randn(2,10)*np.sqrt(1/2)\n",
        "initial_weights[1] = np.zeros(model.get_weights()[1].shape)\n",
        "initial_weights[2] = np.random.randn(10,10)*np.sqrt(1/10)\n",
        "initial_weights[3] = np.zeros(model.get_weights()[3].shape)\n",
        "initial_weights[4] = np.random.randn(10,10)*np.sqrt(1/10)\n",
        "initial_weights[5] = np.zeros(model.get_weights()[5].shape)\n",
        "initial_weights[6] = np.random.randn(10,10)*np.sqrt(1/10)\n",
        "initial_weights[7] = np.zeros(model.get_weights()[7].shape)\n",
        "initial_weights[8] = np.random.randn(10,1)*np.sqrt(1/10)\n",
        "initial_weights[9] = np.zeros(model.get_weights()[9].shape)"
      ],
      "metadata": {
        "id": "UNYdcj8J7wNL"
      },
      "execution_count": 11,
      "outputs": []
    },
    {
      "cell_type": "code",
      "source": [
        "model.set_weights(initial_weights)"
      ],
      "metadata": {
        "id": "zq3fjFx79Kyz"
      },
      "execution_count": 12,
      "outputs": []
    },
    {
      "cell_type": "code",
      "source": [
        "model.get_weights()\n",
        "#These are the new weight values set by Xavier/Glorat formula"
      ],
      "metadata": {
        "colab": {
          "base_uri": "https://localhost:8080/"
        },
        "id": "fkFtP8u99SlS",
        "outputId": "d4ffb190-5b22-472a-c40f-ae2e969a5a17"
      },
      "execution_count": 13,
      "outputs": [
        {
          "output_type": "execute_result",
          "data": {
            "text/plain": [
              "[array([[ 0.04930868, -0.4563927 , -0.3185809 ,  0.22378536,  1.271753  ,\n",
              "          0.42709222,  0.41637808, -1.821912  ,  0.00967585, -0.06699264],\n",
              "        [ 1.4965065 , -0.56659406,  0.6335195 , -0.58283955, -1.2147641 ,\n",
              "         -0.2877813 , -0.35113436,  0.48832908, -1.1568823 ,  0.58840597]],\n",
              "       dtype=float32),\n",
              " array([0., 0., 0., 0., 0., 0., 0., 0., 0., 0.], dtype=float32),\n",
              " array([[ 0.04871806,  0.36030704,  0.14121234,  0.00880177, -0.10576353,\n",
              "          0.18800373,  0.11088017,  0.4059595 , -0.34081063, -0.1719532 ],\n",
              "        [-0.40658173,  0.03013552,  0.13748373,  0.09965672, -0.0208165 ,\n",
              "         -0.05568201,  0.634002  ,  0.28695637, -0.21076365,  0.395688  ],\n",
              "        [-0.05602309, -0.1282174 ,  0.46657905,  0.2980455 , -0.06829994,\n",
              "          0.14926498, -0.58627063,  0.17219408, -0.16936804, -0.24833536],\n",
              "        [ 0.2556605 ,  0.26098388, -0.11291762, -0.02073793,  0.44517055,\n",
              "          0.45153144,  0.14463833, -0.47095743,  0.00889287,  0.14954932],\n",
              "        [ 0.22845663, -0.3236592 ,  0.82015914,  0.48571405, -0.14496186,\n",
              "         -0.04987403, -0.03227561, -0.09230082,  0.06871932,  0.11563154],\n",
              "        [-0.05045662,  0.56140643, -0.5954027 , -0.3299333 , -0.12858155,\n",
              "          0.14792041, -0.46241587, -0.02420192,  0.13674515,  0.15342925],\n",
              "        [-0.12008332,  0.28223404, -0.4869751 , -0.4106651 ,  0.24188243,\n",
              "         -0.5537665 , -0.04650683,  0.04140813, -0.17295434, -0.22152849],\n",
              "        [-0.14357841,  0.06221768, -0.35346264,  0.41615546,  0.02485228,\n",
              "          0.3159533 , -0.03022411, -0.36588204, -0.03743545,  0.27640933],\n",
              "        [ 0.49492732,  0.35634187,  0.1763222 ,  0.1166209 ,  0.5987479 ,\n",
              "          0.17116947,  0.4978387 ,  0.5244447 , -0.30119067,  0.17896855],\n",
              "        [ 0.12091602,  0.06055189, -0.02187404, -0.0631576 , -0.40596235,\n",
              "         -0.22486722, -0.18974555,  0.16435073, -0.11937867, -0.07729476]],\n",
              "       dtype=float32),\n",
              " array([0., 0., 0., 0., 0., 0., 0., 0., 0., 0.], dtype=float32),\n",
              " array([[ 0.03067685,  0.02278318, -0.53211355, -0.11015818,  0.32969707,\n",
              "          0.21774879, -0.98108655, -0.17846763,  0.2969586 , -0.88011426],\n",
              "        [-0.10306318,  0.11289011, -0.07179181,  0.2394839 , -0.08785922,\n",
              "          0.29300243,  0.05217653,  0.5692319 ,  0.06779816,  0.24065381],\n",
              "        [ 0.21564686,  0.1021568 , -0.1324212 ,  0.2368307 ,  0.18933752,\n",
              "         -0.10620508,  0.40894175, -0.03323441,  0.27447593, -0.1043085 ],\n",
              "        [ 0.07636076, -0.23636243,  0.11778197, -0.1400101 ,  0.31192678,\n",
              "         -0.03431902,  0.44570154,  0.3054564 , -0.00918657,  0.22833891],\n",
              "        [ 0.48775837, -0.08738387, -0.34144476, -0.56056136,  0.5949317 ,\n",
              "          0.5756813 , -0.4586813 ,  0.16260284, -0.12507792, -0.11132479],\n",
              "        [ 0.27584425, -0.03612989,  0.16744402, -0.6088303 ,  0.33067483,\n",
              "         -0.49722716,  0.03378108,  0.2920562 ,  0.53240573,  0.15518294],\n",
              "        [ 0.54008114, -0.09608696, -0.05023534,  0.32526284, -0.7256036 ,\n",
              "          0.15836416,  0.31169975, -0.16496922,  0.04885592, -0.04086182],\n",
              "        [-0.046739  , -0.04380364, -0.2355511 ,  0.31017467,  1.24725   ,\n",
              "          0.1424414 , -0.130949  ,  0.17317124, -0.5669732 ,  0.78201956],\n",
              "        [-0.09349121, -0.22718866, -0.2712429 ,  0.10701558, -0.09195454,\n",
              "         -0.6234412 ,  0.01814548, -0.39998037,  0.1380979 ,  0.02150581],\n",
              "        [-0.08175316, -0.75884473, -0.20418441,  0.27303657, -0.350344  ,\n",
              "         -0.43748105, -0.6583399 , -0.5172083 , -0.26647103,  0.91272634]],\n",
              "       dtype=float32),\n",
              " array([0., 0., 0., 0., 0., 0., 0., 0., 0., 0.], dtype=float32),\n",
              " array([[ 0.20932066,  0.20107003,  0.16866452,  0.02752071, -0.1804747 ,\n",
              "          0.00327577, -0.3076053 , -0.1639489 ,  0.13296032,  0.21863519],\n",
              "        [ 0.572421  , -0.7795911 , -0.01096722,  0.41401103, -0.3342262 ,\n",
              "         -0.38291752,  0.01134291,  0.01551383,  0.78707707,  0.04657486],\n",
              "        [-0.07018418, -0.17365913, -0.348133  ,  0.13060556, -0.15825626,\n",
              "          0.2308657 ,  0.02767798,  0.101711  ,  0.17959896, -0.0213633 ],\n",
              "        [-0.07478378,  0.11877801,  0.02082402,  0.22362988,  0.00729969,\n",
              "          0.08310122,  0.06658164, -0.8636268 , -0.34188738, -0.2584684 ],\n",
              "        [-0.08462513,  0.01777773, -0.40273827, -0.31572282, -0.54107994,\n",
              "          0.2513793 , -0.58309555, -0.36081663,  0.29528007, -0.09945592],\n",
              "        [-0.6881014 ,  0.26993206,  0.18431517, -0.49974054,  0.2120562 ,\n",
              "         -0.49818757,  0.00774289,  0.11435612, -0.05289136, -0.229648  ],\n",
              "        [ 0.0327426 , -0.12190197, -0.28147954,  0.15356363,  0.5462313 ,\n",
              "         -0.14238997, -0.1292167 , -0.28480527, -0.27239951,  0.24459213],\n",
              "        [-0.37766317, -0.43252558,  0.56871235, -0.12619917, -0.04046558,\n",
              "         -0.28898805, -0.09495267,  0.3185773 , -0.02164881,  0.19298166],\n",
              "        [ 0.16428316,  0.41466424,  0.02778426,  0.1791888 ,  0.3283288 ,\n",
              "         -0.10427136, -0.29420343,  0.49863836, -0.05358646, -0.29372817],\n",
              "        [-0.190024  ,  0.11137212, -0.1757366 ,  0.1462077 , -0.459308  ,\n",
              "          0.31196946, -0.21552558, -0.08461829, -0.21988487,  0.04981804]],\n",
              "       dtype=float32),\n",
              " array([0., 0., 0., 0., 0., 0., 0., 0., 0., 0.], dtype=float32),\n",
              " array([[-0.27500987],\n",
              "        [-0.1044402 ],\n",
              "        [-0.54984987],\n",
              "        [ 0.96645486],\n",
              "        [-0.6041979 ],\n",
              "        [-0.02197695],\n",
              "        [ 0.57581973],\n",
              "        [ 0.44289696],\n",
              "        [ 0.42239213],\n",
              "        [-0.5229877 ]], dtype=float32),\n",
              " array([0.], dtype=float32)]"
            ]
          },
          "metadata": {},
          "execution_count": 13
        }
      ]
    },
    {
      "cell_type": "code",
      "source": [
        "model.compile(optimizer='adam',loss='binary_crossentropy',metrics=['accuracy'])"
      ],
      "metadata": {
        "id": "IN4Isz9P9WTQ"
      },
      "execution_count": 14,
      "outputs": []
    },
    {
      "cell_type": "code",
      "source": [
        "history=model.fit(x,y,epochs=100,validation_split=0.2)"
      ],
      "metadata": {
        "colab": {
          "base_uri": "https://localhost:8080/"
        },
        "id": "zjDOha4Q9uzi",
        "outputId": "b83500c9-b897-4203-fb2a-05c207a9d2e9"
      },
      "execution_count": 15,
      "outputs": [
        {
          "output_type": "stream",
          "name": "stdout",
          "text": [
            "Epoch 1/100\n",
            "\u001b[1m3/3\u001b[0m \u001b[32m━━━━━━━━━━━━━━━━━━━━\u001b[0m\u001b[37m\u001b[0m \u001b[1m4s\u001b[0m 303ms/step - accuracy: 0.2399 - loss: 0.8471 - val_accuracy: 0.1500 - val_loss: 0.8076\n",
            "Epoch 2/100\n",
            "\u001b[1m3/3\u001b[0m \u001b[32m━━━━━━━━━━━━━━━━━━━━\u001b[0m\u001b[37m\u001b[0m \u001b[1m1s\u001b[0m 134ms/step - accuracy: 0.2447 - loss: 0.8094 - val_accuracy: 0.3000 - val_loss: 0.7724\n",
            "Epoch 3/100\n",
            "\u001b[1m3/3\u001b[0m \u001b[32m━━━━━━━━━━━━━━━━━━━━\u001b[0m\u001b[37m\u001b[0m \u001b[1m0s\u001b[0m 52ms/step - accuracy: 0.2808 - loss: 0.7821 - val_accuracy: 0.3500 - val_loss: 0.7388\n",
            "Epoch 4/100\n",
            "\u001b[1m3/3\u001b[0m \u001b[32m━━━━━━━━━━━━━━━━━━━━\u001b[0m\u001b[37m\u001b[0m \u001b[1m0s\u001b[0m 71ms/step - accuracy: 0.3028 - loss: 0.7456 - val_accuracy: 0.4000 - val_loss: 0.7071\n",
            "Epoch 5/100\n",
            "\u001b[1m3/3\u001b[0m \u001b[32m━━━━━━━━━━━━━━━━━━━━\u001b[0m\u001b[37m\u001b[0m \u001b[1m0s\u001b[0m 71ms/step - accuracy: 0.3789 - loss: 0.7091 - val_accuracy: 0.6000 - val_loss: 0.6772\n",
            "Epoch 6/100\n",
            "\u001b[1m3/3\u001b[0m \u001b[32m━━━━━━━━━━━━━━━━━━━━\u001b[0m\u001b[37m\u001b[0m \u001b[1m0s\u001b[0m 75ms/step - accuracy: 0.3939 - loss: 0.6892 - val_accuracy: 0.6000 - val_loss: 0.6484\n",
            "Epoch 7/100\n",
            "\u001b[1m3/3\u001b[0m \u001b[32m━━━━━━━━━━━━━━━━━━━━\u001b[0m\u001b[37m\u001b[0m \u001b[1m0s\u001b[0m 35ms/step - accuracy: 0.5525 - loss: 0.6620 - val_accuracy: 0.8000 - val_loss: 0.6209\n",
            "Epoch 8/100\n",
            "\u001b[1m3/3\u001b[0m \u001b[32m━━━━━━━━━━━━━━━━━━━━\u001b[0m\u001b[37m\u001b[0m \u001b[1m0s\u001b[0m 35ms/step - accuracy: 0.6904 - loss: 0.6425 - val_accuracy: 0.8500 - val_loss: 0.5960\n",
            "Epoch 9/100\n",
            "\u001b[1m3/3\u001b[0m \u001b[32m━━━━━━━━━━━━━━━━━━━━\u001b[0m\u001b[37m\u001b[0m \u001b[1m0s\u001b[0m 97ms/step - accuracy: 0.7752 - loss: 0.6191 - val_accuracy: 0.8500 - val_loss: 0.5725\n",
            "Epoch 10/100\n",
            "\u001b[1m3/3\u001b[0m \u001b[32m━━━━━━━━━━━━━━━━━━━━\u001b[0m\u001b[37m\u001b[0m \u001b[1m0s\u001b[0m 74ms/step - accuracy: 0.8152 - loss: 0.5983 - val_accuracy: 0.8500 - val_loss: 0.5499\n",
            "Epoch 11/100\n",
            "\u001b[1m3/3\u001b[0m \u001b[32m━━━━━━━━━━━━━━━━━━━━\u001b[0m\u001b[37m\u001b[0m \u001b[1m0s\u001b[0m 76ms/step - accuracy: 0.8411 - loss: 0.5784 - val_accuracy: 0.9000 - val_loss: 0.5287\n",
            "Epoch 12/100\n",
            "\u001b[1m3/3\u001b[0m \u001b[32m━━━━━━━━━━━━━━━━━━━━\u001b[0m\u001b[37m\u001b[0m \u001b[1m0s\u001b[0m 69ms/step - accuracy: 0.8020 - loss: 0.5706 - val_accuracy: 0.9000 - val_loss: 0.5084\n",
            "Epoch 13/100\n",
            "\u001b[1m3/3\u001b[0m \u001b[32m━━━━━━━━━━━━━━━━━━━━\u001b[0m\u001b[37m\u001b[0m \u001b[1m0s\u001b[0m 71ms/step - accuracy: 0.8201 - loss: 0.5572 - val_accuracy: 0.9000 - val_loss: 0.4890\n",
            "Epoch 14/100\n",
            "\u001b[1m3/3\u001b[0m \u001b[32m━━━━━━━━━━━━━━━━━━━━\u001b[0m\u001b[37m\u001b[0m \u001b[1m0s\u001b[0m 122ms/step - accuracy: 0.8630 - loss: 0.5268 - val_accuracy: 0.9000 - val_loss: 0.4707\n",
            "Epoch 15/100\n",
            "\u001b[1m3/3\u001b[0m \u001b[32m━━━━━━━━━━━━━━━━━━━━\u001b[0m\u001b[37m\u001b[0m \u001b[1m1s\u001b[0m 114ms/step - accuracy: 0.8279 - loss: 0.5201 - val_accuracy: 0.9500 - val_loss: 0.4545\n",
            "Epoch 16/100\n",
            "\u001b[1m3/3\u001b[0m \u001b[32m━━━━━━━━━━━━━━━━━━━━\u001b[0m\u001b[37m\u001b[0m \u001b[1m0s\u001b[0m 107ms/step - accuracy: 0.8201 - loss: 0.5156 - val_accuracy: 0.9500 - val_loss: 0.4395\n",
            "Epoch 17/100\n",
            "\u001b[1m3/3\u001b[0m \u001b[32m━━━━━━━━━━━━━━━━━━━━\u001b[0m\u001b[37m\u001b[0m \u001b[1m0s\u001b[0m 139ms/step - accuracy: 0.8576 - loss: 0.4881 - val_accuracy: 0.9500 - val_loss: 0.4253\n",
            "Epoch 18/100\n",
            "\u001b[1m3/3\u001b[0m \u001b[32m━━━━━━━━━━━━━━━━━━━━\u001b[0m\u001b[37m\u001b[0m \u001b[1m1s\u001b[0m 128ms/step - accuracy: 0.8303 - loss: 0.4934 - val_accuracy: 0.9500 - val_loss: 0.4119\n",
            "Epoch 19/100\n",
            "\u001b[1m3/3\u001b[0m \u001b[32m━━━━━━━━━━━━━━━━━━━━\u001b[0m\u001b[37m\u001b[0m \u001b[1m1s\u001b[0m 100ms/step - accuracy: 0.8381 - loss: 0.4749 - val_accuracy: 0.9500 - val_loss: 0.3993\n",
            "Epoch 20/100\n",
            "\u001b[1m3/3\u001b[0m \u001b[32m━━━━━━━━━━━━━━━━━━━━\u001b[0m\u001b[37m\u001b[0m \u001b[1m0s\u001b[0m 75ms/step - accuracy: 0.8513 - loss: 0.4569 - val_accuracy: 0.9000 - val_loss: 0.3870\n",
            "Epoch 21/100\n",
            "\u001b[1m3/3\u001b[0m \u001b[32m━━━━━━━━━━━━━━━━━━━━\u001b[0m\u001b[37m\u001b[0m \u001b[1m0s\u001b[0m 71ms/step - accuracy: 0.8474 - loss: 0.4426 - val_accuracy: 0.9000 - val_loss: 0.3763\n",
            "Epoch 22/100\n",
            "\u001b[1m3/3\u001b[0m \u001b[32m━━━━━━━━━━━━━━━━━━━━\u001b[0m\u001b[37m\u001b[0m \u001b[1m0s\u001b[0m 125ms/step - accuracy: 0.8435 - loss: 0.4392 - val_accuracy: 0.9000 - val_loss: 0.3661\n",
            "Epoch 23/100\n",
            "\u001b[1m3/3\u001b[0m \u001b[32m━━━━━━━━━━━━━━━━━━━━\u001b[0m\u001b[37m\u001b[0m \u001b[1m0s\u001b[0m 77ms/step - accuracy: 0.8357 - loss: 0.4258 - val_accuracy: 0.9000 - val_loss: 0.3566\n",
            "Epoch 24/100\n",
            "\u001b[1m3/3\u001b[0m \u001b[32m━━━━━━━━━━━━━━━━━━━━\u001b[0m\u001b[37m\u001b[0m \u001b[1m0s\u001b[0m 131ms/step - accuracy: 0.8435 - loss: 0.4151 - val_accuracy: 0.9000 - val_loss: 0.3480\n",
            "Epoch 25/100\n",
            "\u001b[1m3/3\u001b[0m \u001b[32m━━━━━━━━━━━━━━━━━━━━\u001b[0m\u001b[37m\u001b[0m \u001b[1m1s\u001b[0m 88ms/step - accuracy: 0.8083 - loss: 0.4504 - val_accuracy: 0.9000 - val_loss: 0.3409\n",
            "Epoch 26/100\n",
            "\u001b[1m3/3\u001b[0m \u001b[32m━━━━━━━━━━━━━━━━━━━━\u001b[0m\u001b[37m\u001b[0m \u001b[1m0s\u001b[0m 91ms/step - accuracy: 0.8147 - loss: 0.4454 - val_accuracy: 0.9000 - val_loss: 0.3342\n",
            "Epoch 27/100\n",
            "\u001b[1m3/3\u001b[0m \u001b[32m━━━━━━━━━━━━━━━━━━━━\u001b[0m\u001b[37m\u001b[0m \u001b[1m0s\u001b[0m 52ms/step - accuracy: 0.8616 - loss: 0.3904 - val_accuracy: 0.9000 - val_loss: 0.3277\n",
            "Epoch 28/100\n",
            "\u001b[1m3/3\u001b[0m \u001b[32m━━━━━━━━━━━━━━━━━━━━\u001b[0m\u001b[37m\u001b[0m \u001b[1m0s\u001b[0m 67ms/step - accuracy: 0.8498 - loss: 0.4116 - val_accuracy: 0.9000 - val_loss: 0.3222\n",
            "Epoch 29/100\n",
            "\u001b[1m3/3\u001b[0m \u001b[32m━━━━━━━━━━━━━━━━━━━━\u001b[0m\u001b[37m\u001b[0m \u001b[1m0s\u001b[0m 63ms/step - accuracy: 0.8655 - loss: 0.3986 - val_accuracy: 0.9000 - val_loss: 0.3171\n",
            "Epoch 30/100\n",
            "\u001b[1m3/3\u001b[0m \u001b[32m━━━━━━━━━━━━━━━━━━━━\u001b[0m\u001b[37m\u001b[0m \u001b[1m0s\u001b[0m 71ms/step - accuracy: 0.8576 - loss: 0.3938 - val_accuracy: 0.9000 - val_loss: 0.3128\n",
            "Epoch 31/100\n",
            "\u001b[1m3/3\u001b[0m \u001b[32m━━━━━━━━━━━━━━━━━━━━\u001b[0m\u001b[37m\u001b[0m \u001b[1m0s\u001b[0m 74ms/step - accuracy: 0.8498 - loss: 0.3988 - val_accuracy: 0.9000 - val_loss: 0.3090\n",
            "Epoch 32/100\n",
            "\u001b[1m3/3\u001b[0m \u001b[32m━━━━━━━━━━━━━━━━━━━━\u001b[0m\u001b[37m\u001b[0m \u001b[1m0s\u001b[0m 101ms/step - accuracy: 0.8498 - loss: 0.3967 - val_accuracy: 0.9000 - val_loss: 0.3053\n",
            "Epoch 33/100\n",
            "\u001b[1m3/3\u001b[0m \u001b[32m━━━━━━━━━━━━━━━━━━━━\u001b[0m\u001b[37m\u001b[0m \u001b[1m0s\u001b[0m 78ms/step - accuracy: 0.8576 - loss: 0.3932 - val_accuracy: 0.9000 - val_loss: 0.3021\n",
            "Epoch 34/100\n",
            "\u001b[1m3/3\u001b[0m \u001b[32m━━━━━━━━━━━━━━━━━━━━\u001b[0m\u001b[37m\u001b[0m \u001b[1m0s\u001b[0m 71ms/step - accuracy: 0.8225 - loss: 0.4216 - val_accuracy: 0.9000 - val_loss: 0.2990\n",
            "Epoch 35/100\n",
            "\u001b[1m3/3\u001b[0m \u001b[32m━━━━━━━━━━━━━━━━━━━━\u001b[0m\u001b[37m\u001b[0m \u001b[1m0s\u001b[0m 67ms/step - accuracy: 0.8616 - loss: 0.3828 - val_accuracy: 0.9000 - val_loss: 0.2957\n",
            "Epoch 36/100\n",
            "\u001b[1m3/3\u001b[0m \u001b[32m━━━━━━━━━━━━━━━━━━━━\u001b[0m\u001b[37m\u001b[0m \u001b[1m0s\u001b[0m 89ms/step - accuracy: 0.8616 - loss: 0.3880 - val_accuracy: 0.9000 - val_loss: 0.2932\n",
            "Epoch 37/100\n",
            "\u001b[1m3/3\u001b[0m \u001b[32m━━━━━━━━━━━━━━━━━━━━\u001b[0m\u001b[37m\u001b[0m \u001b[1m0s\u001b[0m 79ms/step - accuracy: 0.8616 - loss: 0.3719 - val_accuracy: 0.9000 - val_loss: 0.2908\n",
            "Epoch 38/100\n",
            "\u001b[1m3/3\u001b[0m \u001b[32m━━━━━━━━━━━━━━━━━━━━\u001b[0m\u001b[37m\u001b[0m \u001b[1m0s\u001b[0m 91ms/step - accuracy: 0.8498 - loss: 0.3713 - val_accuracy: 0.9000 - val_loss: 0.2889\n",
            "Epoch 39/100\n",
            "\u001b[1m3/3\u001b[0m \u001b[32m━━━━━━━━━━━━━━━━━━━━\u001b[0m\u001b[37m\u001b[0m \u001b[1m0s\u001b[0m 63ms/step - accuracy: 0.8811 - loss: 0.3391 - val_accuracy: 0.9000 - val_loss: 0.2878\n",
            "Epoch 40/100\n",
            "\u001b[1m3/3\u001b[0m \u001b[32m━━━━━━━━━━━━━━━━━━━━\u001b[0m\u001b[37m\u001b[0m \u001b[1m0s\u001b[0m 68ms/step - accuracy: 0.8225 - loss: 0.4160 - val_accuracy: 0.9000 - val_loss: 0.2879\n",
            "Epoch 41/100\n",
            "\u001b[1m3/3\u001b[0m \u001b[32m━━━━━━━━━━━━━━━━━━━━\u001b[0m\u001b[37m\u001b[0m \u001b[1m0s\u001b[0m 70ms/step - accuracy: 0.8576 - loss: 0.3733 - val_accuracy: 0.9000 - val_loss: 0.2875\n",
            "Epoch 42/100\n",
            "\u001b[1m3/3\u001b[0m \u001b[32m━━━━━━━━━━━━━━━━━━━━\u001b[0m\u001b[37m\u001b[0m \u001b[1m0s\u001b[0m 165ms/step - accuracy: 0.8718 - loss: 0.3840 - val_accuracy: 0.9000 - val_loss: 0.2877\n",
            "Epoch 43/100\n",
            "\u001b[1m3/3\u001b[0m \u001b[32m━━━━━━━━━━━━━━━━━━━━\u001b[0m\u001b[37m\u001b[0m \u001b[1m1s\u001b[0m 148ms/step - accuracy: 0.8483 - loss: 0.4050 - val_accuracy: 0.9000 - val_loss: 0.2878\n",
            "Epoch 44/100\n",
            "\u001b[1m3/3\u001b[0m \u001b[32m━━━━━━━━━━━━━━━━━━━━\u001b[0m\u001b[37m\u001b[0m \u001b[1m1s\u001b[0m 135ms/step - accuracy: 0.8562 - loss: 0.3967 - val_accuracy: 0.9000 - val_loss: 0.2872\n",
            "Epoch 45/100\n",
            "\u001b[1m3/3\u001b[0m \u001b[32m━━━━━━━━━━━━━━━━━━━━\u001b[0m\u001b[37m\u001b[0m \u001b[1m1s\u001b[0m 115ms/step - accuracy: 0.8601 - loss: 0.3982 - val_accuracy: 0.9000 - val_loss: 0.2864\n",
            "Epoch 46/100\n",
            "\u001b[1m3/3\u001b[0m \u001b[32m━━━━━━━━━━━━━━━━━━━━\u001b[0m\u001b[37m\u001b[0m \u001b[1m0s\u001b[0m 72ms/step - accuracy: 0.8796 - loss: 0.3563 - val_accuracy: 0.9000 - val_loss: 0.2850\n",
            "Epoch 47/100\n",
            "\u001b[1m3/3\u001b[0m \u001b[32m━━━━━━━━━━━━━━━━━━━━\u001b[0m\u001b[37m\u001b[0m \u001b[1m0s\u001b[0m 80ms/step - accuracy: 0.8640 - loss: 0.3822 - val_accuracy: 0.9000 - val_loss: 0.2838\n",
            "Epoch 48/100\n",
            "\u001b[1m3/3\u001b[0m \u001b[32m━━━━━━━━━━━━━━━━━━━━\u001b[0m\u001b[37m\u001b[0m \u001b[1m0s\u001b[0m 103ms/step - accuracy: 0.8562 - loss: 0.3801 - val_accuracy: 0.9000 - val_loss: 0.2826\n",
            "Epoch 49/100\n",
            "\u001b[1m3/3\u001b[0m \u001b[32m━━━━━━━━━━━━━━━━━━━━\u001b[0m\u001b[37m\u001b[0m \u001b[1m0s\u001b[0m 66ms/step - accuracy: 0.8640 - loss: 0.3884 - val_accuracy: 0.9000 - val_loss: 0.2808\n",
            "Epoch 50/100\n",
            "\u001b[1m3/3\u001b[0m \u001b[32m━━━━━━━━━━━━━━━━━━━━\u001b[0m\u001b[37m\u001b[0m \u001b[1m0s\u001b[0m 144ms/step - accuracy: 0.8483 - loss: 0.3919 - val_accuracy: 0.9000 - val_loss: 0.2786\n",
            "Epoch 51/100\n",
            "\u001b[1m3/3\u001b[0m \u001b[32m━━━━━━━━━━━━━━━━━━━━\u001b[0m\u001b[37m\u001b[0m \u001b[1m1s\u001b[0m 181ms/step - accuracy: 0.8405 - loss: 0.4014 - val_accuracy: 0.9000 - val_loss: 0.2775\n",
            "Epoch 52/100\n",
            "\u001b[1m3/3\u001b[0m \u001b[32m━━━━━━━━━━━━━━━━━━━━\u001b[0m\u001b[37m\u001b[0m \u001b[1m0s\u001b[0m 63ms/step - accuracy: 0.8366 - loss: 0.4132 - val_accuracy: 0.9000 - val_loss: 0.2772\n",
            "Epoch 53/100\n",
            "\u001b[1m3/3\u001b[0m \u001b[32m━━━━━━━━━━━━━━━━━━━━\u001b[0m\u001b[37m\u001b[0m \u001b[1m1s\u001b[0m 287ms/step - accuracy: 0.8444 - loss: 0.4140 - val_accuracy: 0.9000 - val_loss: 0.2766\n",
            "Epoch 54/100\n",
            "\u001b[1m3/3\u001b[0m \u001b[32m━━━━━━━━━━━━━━━━━━━━\u001b[0m\u001b[37m\u001b[0m \u001b[1m1s\u001b[0m 209ms/step - accuracy: 0.8640 - loss: 0.3791 - val_accuracy: 0.9000 - val_loss: 0.2754\n",
            "Epoch 55/100\n",
            "\u001b[1m3/3\u001b[0m \u001b[32m━━━━━━━━━━━━━━━━━━━━\u001b[0m\u001b[37m\u001b[0m \u001b[1m0s\u001b[0m 101ms/step - accuracy: 0.8796 - loss: 0.3408 - val_accuracy: 0.9000 - val_loss: 0.2738\n",
            "Epoch 56/100\n",
            "\u001b[1m3/3\u001b[0m \u001b[32m━━━━━━━━━━━━━━━━━━━━\u001b[0m\u001b[37m\u001b[0m \u001b[1m0s\u001b[0m 135ms/step - accuracy: 0.8562 - loss: 0.3913 - val_accuracy: 0.9000 - val_loss: 0.2726\n",
            "Epoch 57/100\n",
            "\u001b[1m3/3\u001b[0m \u001b[32m━━━━━━━━━━━━━━━━━━━━\u001b[0m\u001b[37m\u001b[0m \u001b[1m0s\u001b[0m 175ms/step - accuracy: 0.8420 - loss: 0.3796 - val_accuracy: 0.9000 - val_loss: 0.2718\n",
            "Epoch 58/100\n",
            "\u001b[1m3/3\u001b[0m \u001b[32m━━━━━━━━━━━━━━━━━━━━\u001b[0m\u001b[37m\u001b[0m \u001b[1m0s\u001b[0m 71ms/step - accuracy: 0.8459 - loss: 0.3622 - val_accuracy: 0.9000 - val_loss: 0.2712\n",
            "Epoch 59/100\n",
            "\u001b[1m3/3\u001b[0m \u001b[32m━━━━━━━━━━━━━━━━━━━━\u001b[0m\u001b[37m\u001b[0m \u001b[1m0s\u001b[0m 69ms/step - accuracy: 0.8303 - loss: 0.3980 - val_accuracy: 0.9000 - val_loss: 0.2715\n",
            "Epoch 60/100\n",
            "\u001b[1m3/3\u001b[0m \u001b[32m━━━━━━━━━━━━━━━━━━━━\u001b[0m\u001b[37m\u001b[0m \u001b[1m0s\u001b[0m 112ms/step - accuracy: 0.8459 - loss: 0.3789 - val_accuracy: 0.9000 - val_loss: 0.2715\n",
            "Epoch 61/100\n",
            "\u001b[1m3/3\u001b[0m \u001b[32m━━━━━━━━━━━━━━━━━━━━\u001b[0m\u001b[37m\u001b[0m \u001b[1m0s\u001b[0m 61ms/step - accuracy: 0.8576 - loss: 0.3590 - val_accuracy: 0.9000 - val_loss: 0.2714\n",
            "Epoch 62/100\n",
            "\u001b[1m3/3\u001b[0m \u001b[32m━━━━━━━━━━━━━━━━━━━━\u001b[0m\u001b[37m\u001b[0m \u001b[1m0s\u001b[0m 127ms/step - accuracy: 0.8655 - loss: 0.3479 - val_accuracy: 0.9000 - val_loss: 0.2706\n",
            "Epoch 63/100\n",
            "\u001b[1m3/3\u001b[0m \u001b[32m━━━━━━━━━━━━━━━━━━━━\u001b[0m\u001b[37m\u001b[0m \u001b[1m0s\u001b[0m 65ms/step - accuracy: 0.8772 - loss: 0.3319 - val_accuracy: 0.9000 - val_loss: 0.2698\n",
            "Epoch 64/100\n",
            "\u001b[1m3/3\u001b[0m \u001b[32m━━━━━━━━━━━━━━━━━━━━\u001b[0m\u001b[37m\u001b[0m \u001b[1m0s\u001b[0m 77ms/step - accuracy: 0.8537 - loss: 0.3456 - val_accuracy: 0.9000 - val_loss: 0.2697\n",
            "Epoch 65/100\n",
            "\u001b[1m3/3\u001b[0m \u001b[32m━━━━━━━━━━━━━━━━━━━━\u001b[0m\u001b[37m\u001b[0m \u001b[1m0s\u001b[0m 32ms/step - accuracy: 0.8459 - loss: 0.3681 - val_accuracy: 0.9500 - val_loss: 0.2700\n",
            "Epoch 66/100\n",
            "\u001b[1m3/3\u001b[0m \u001b[32m━━━━━━━━━━━━━━━━━━━━\u001b[0m\u001b[37m\u001b[0m \u001b[1m0s\u001b[0m 51ms/step - accuracy: 0.8264 - loss: 0.3958 - val_accuracy: 0.9500 - val_loss: 0.2702\n",
            "Epoch 67/100\n",
            "\u001b[1m3/3\u001b[0m \u001b[32m━━━━━━━━━━━━━━━━━━━━\u001b[0m\u001b[37m\u001b[0m \u001b[1m0s\u001b[0m 30ms/step - accuracy: 0.8381 - loss: 0.3800 - val_accuracy: 0.9500 - val_loss: 0.2703\n",
            "Epoch 68/100\n",
            "\u001b[1m3/3\u001b[0m \u001b[32m━━━━━━━━━━━━━━━━━━━━\u001b[0m\u001b[37m\u001b[0m \u001b[1m0s\u001b[0m 65ms/step - accuracy: 0.8186 - loss: 0.4078 - val_accuracy: 0.9500 - val_loss: 0.2706\n",
            "Epoch 69/100\n",
            "\u001b[1m3/3\u001b[0m \u001b[32m━━━━━━━━━━━━━━━━━━━━\u001b[0m\u001b[37m\u001b[0m \u001b[1m0s\u001b[0m 85ms/step - accuracy: 0.8459 - loss: 0.3507 - val_accuracy: 0.9500 - val_loss: 0.2700\n",
            "Epoch 70/100\n",
            "\u001b[1m3/3\u001b[0m \u001b[32m━━━━━━━━━━━━━━━━━━━━\u001b[0m\u001b[37m\u001b[0m \u001b[1m0s\u001b[0m 85ms/step - accuracy: 0.8381 - loss: 0.3564 - val_accuracy: 0.9500 - val_loss: 0.2698\n",
            "Epoch 71/100\n",
            "\u001b[1m3/3\u001b[0m \u001b[32m━━━━━━━━━━━━━━━━━━━━\u001b[0m\u001b[37m\u001b[0m \u001b[1m0s\u001b[0m 63ms/step - accuracy: 0.8459 - loss: 0.3820 - val_accuracy: 0.9500 - val_loss: 0.2700\n",
            "Epoch 72/100\n",
            "\u001b[1m3/3\u001b[0m \u001b[32m━━━━━━━━━━━━━━━━━━━━\u001b[0m\u001b[37m\u001b[0m \u001b[1m1s\u001b[0m 216ms/step - accuracy: 0.8537 - loss: 0.3479 - val_accuracy: 0.9500 - val_loss: 0.2690\n",
            "Epoch 73/100\n",
            "\u001b[1m3/3\u001b[0m \u001b[32m━━━━━━━━━━━━━━━━━━━━\u001b[0m\u001b[37m\u001b[0m \u001b[1m0s\u001b[0m 106ms/step - accuracy: 0.8342 - loss: 0.3767 - val_accuracy: 0.9500 - val_loss: 0.2685\n",
            "Epoch 74/100\n",
            "\u001b[1m3/3\u001b[0m \u001b[32m━━━━━━━━━━━━━━━━━━━━\u001b[0m\u001b[37m\u001b[0m \u001b[1m0s\u001b[0m 66ms/step - accuracy: 0.8576 - loss: 0.3507 - val_accuracy: 0.9500 - val_loss: 0.2676\n",
            "Epoch 75/100\n",
            "\u001b[1m3/3\u001b[0m \u001b[32m━━━━━━━━━━━━━━━━━━━━\u001b[0m\u001b[37m\u001b[0m \u001b[1m0s\u001b[0m 119ms/step - accuracy: 0.8498 - loss: 0.3536 - val_accuracy: 0.9500 - val_loss: 0.2666\n",
            "Epoch 76/100\n",
            "\u001b[1m3/3\u001b[0m \u001b[32m━━━━━━━━━━━━━━━━━━━━\u001b[0m\u001b[37m\u001b[0m \u001b[1m0s\u001b[0m 73ms/step - accuracy: 0.8381 - loss: 0.3513 - val_accuracy: 0.9500 - val_loss: 0.2659\n",
            "Epoch 77/100\n",
            "\u001b[1m3/3\u001b[0m \u001b[32m━━━━━━━━━━━━━━━━━━━━\u001b[0m\u001b[37m\u001b[0m \u001b[1m0s\u001b[0m 74ms/step - accuracy: 0.8616 - loss: 0.3433 - val_accuracy: 0.9500 - val_loss: 0.2652\n",
            "Epoch 78/100\n",
            "\u001b[1m3/3\u001b[0m \u001b[32m━━━━━━━━━━━━━━━━━━━━\u001b[0m\u001b[37m\u001b[0m \u001b[1m0s\u001b[0m 80ms/step - accuracy: 0.8655 - loss: 0.3177 - val_accuracy: 0.9500 - val_loss: 0.2643\n",
            "Epoch 79/100\n",
            "\u001b[1m3/3\u001b[0m \u001b[32m━━━━━━━━━━━━━━━━━━━━\u001b[0m\u001b[37m\u001b[0m \u001b[1m0s\u001b[0m 64ms/step - accuracy: 0.8342 - loss: 0.3813 - val_accuracy: 0.9500 - val_loss: 0.2636\n",
            "Epoch 80/100\n",
            "\u001b[1m3/3\u001b[0m \u001b[32m━━━━━━━━━━━━━━━━━━━━\u001b[0m\u001b[37m\u001b[0m \u001b[1m0s\u001b[0m 63ms/step - accuracy: 0.8498 - loss: 0.3481 - val_accuracy: 0.9500 - val_loss: 0.2632\n",
            "Epoch 81/100\n",
            "\u001b[1m3/3\u001b[0m \u001b[32m━━━━━━━━━━━━━━━━━━━━\u001b[0m\u001b[37m\u001b[0m \u001b[1m0s\u001b[0m 63ms/step - accuracy: 0.8342 - loss: 0.3789 - val_accuracy: 0.9500 - val_loss: 0.2623\n",
            "Epoch 82/100\n",
            "\u001b[1m3/3\u001b[0m \u001b[32m━━━━━━━━━━━━━━━━━━━━\u001b[0m\u001b[37m\u001b[0m \u001b[1m0s\u001b[0m 50ms/step - accuracy: 0.8420 - loss: 0.3520 - val_accuracy: 0.9500 - val_loss: 0.2605\n",
            "Epoch 83/100\n",
            "\u001b[1m3/3\u001b[0m \u001b[32m━━━━━━━━━━━━━━━━━━━━\u001b[0m\u001b[37m\u001b[0m \u001b[1m0s\u001b[0m 66ms/step - accuracy: 0.8342 - loss: 0.3633 - val_accuracy: 0.9500 - val_loss: 0.2596\n",
            "Epoch 84/100\n",
            "\u001b[1m3/3\u001b[0m \u001b[32m━━━━━━━━━━━━━━━━━━━━\u001b[0m\u001b[37m\u001b[0m \u001b[1m0s\u001b[0m 67ms/step - accuracy: 0.8420 - loss: 0.3587 - val_accuracy: 0.9500 - val_loss: 0.2587\n",
            "Epoch 85/100\n",
            "\u001b[1m3/3\u001b[0m \u001b[32m━━━━━━━━━━━━━━━━━━━━\u001b[0m\u001b[37m\u001b[0m \u001b[1m0s\u001b[0m 72ms/step - accuracy: 0.8303 - loss: 0.3764 - val_accuracy: 0.9500 - val_loss: 0.2573\n",
            "Epoch 86/100\n",
            "\u001b[1m3/3\u001b[0m \u001b[32m━━━━━━━━━━━━━━━━━━━━\u001b[0m\u001b[37m\u001b[0m \u001b[1m0s\u001b[0m 109ms/step - accuracy: 0.8498 - loss: 0.3384 - val_accuracy: 0.9500 - val_loss: 0.2557\n",
            "Epoch 87/100\n",
            "\u001b[1m3/3\u001b[0m \u001b[32m━━━━━━━━━━━━━━━━━━━━\u001b[0m\u001b[37m\u001b[0m \u001b[1m1s\u001b[0m 76ms/step - accuracy: 0.8381 - loss: 0.3495 - val_accuracy: 0.9500 - val_loss: 0.2544\n",
            "Epoch 88/100\n",
            "\u001b[1m3/3\u001b[0m \u001b[32m━━━━━━━━━━━━━━━━━━━━\u001b[0m\u001b[37m\u001b[0m \u001b[1m0s\u001b[0m 71ms/step - accuracy: 0.8498 - loss: 0.3422 - val_accuracy: 0.9500 - val_loss: 0.2536\n",
            "Epoch 89/100\n",
            "\u001b[1m3/3\u001b[0m \u001b[32m━━━━━━━━━━━━━━━━━━━━\u001b[0m\u001b[37m\u001b[0m \u001b[1m0s\u001b[0m 103ms/step - accuracy: 0.8303 - loss: 0.3574 - val_accuracy: 0.9500 - val_loss: 0.2526\n",
            "Epoch 90/100\n",
            "\u001b[1m3/3\u001b[0m \u001b[32m━━━━━━━━━━━━━━━━━━━━\u001b[0m\u001b[37m\u001b[0m \u001b[1m0s\u001b[0m 91ms/step - accuracy: 0.8459 - loss: 0.3404 - val_accuracy: 0.9500 - val_loss: 0.2515\n",
            "Epoch 91/100\n",
            "\u001b[1m3/3\u001b[0m \u001b[32m━━━━━━━━━━━━━━━━━━━━\u001b[0m\u001b[37m\u001b[0m \u001b[1m0s\u001b[0m 140ms/step - accuracy: 0.8576 - loss: 0.3438 - val_accuracy: 0.9500 - val_loss: 0.2512\n",
            "Epoch 92/100\n",
            "\u001b[1m3/3\u001b[0m \u001b[32m━━━━━━━━━━━━━━━━━━━━\u001b[0m\u001b[37m\u001b[0m \u001b[1m1s\u001b[0m 175ms/step - accuracy: 0.8655 - loss: 0.3049 - val_accuracy: 0.9500 - val_loss: 0.2514\n",
            "Epoch 93/100\n",
            "\u001b[1m3/3\u001b[0m \u001b[32m━━━━━━━━━━━━━━━━━━━━\u001b[0m\u001b[37m\u001b[0m \u001b[1m0s\u001b[0m 136ms/step - accuracy: 0.8459 - loss: 0.3454 - val_accuracy: 0.9500 - val_loss: 0.2530\n",
            "Epoch 94/100\n",
            "\u001b[1m3/3\u001b[0m \u001b[32m━━━━━━━━━━━━━━━━━━━━\u001b[0m\u001b[37m\u001b[0m \u001b[1m1s\u001b[0m 185ms/step - accuracy: 0.8694 - loss: 0.3116 - val_accuracy: 0.9500 - val_loss: 0.2536\n",
            "Epoch 95/100\n",
            "\u001b[1m3/3\u001b[0m \u001b[32m━━━━━━━━━━━━━━━━━━━━\u001b[0m\u001b[37m\u001b[0m \u001b[1m0s\u001b[0m 52ms/step - accuracy: 0.8420 - loss: 0.3295 - val_accuracy: 0.9500 - val_loss: 0.2543\n",
            "Epoch 96/100\n",
            "\u001b[1m3/3\u001b[0m \u001b[32m━━━━━━━━━━━━━━━━━━━━\u001b[0m\u001b[37m\u001b[0m \u001b[1m0s\u001b[0m 63ms/step - accuracy: 0.8576 - loss: 0.3279 - val_accuracy: 0.9500 - val_loss: 0.2534\n",
            "Epoch 97/100\n",
            "\u001b[1m3/3\u001b[0m \u001b[32m━━━━━━━━━━━━━━━━━━━━\u001b[0m\u001b[37m\u001b[0m \u001b[1m0s\u001b[0m 66ms/step - accuracy: 0.8616 - loss: 0.3178 - val_accuracy: 0.9500 - val_loss: 0.2517\n",
            "Epoch 98/100\n",
            "\u001b[1m3/3\u001b[0m \u001b[32m━━━━━━━━━━━━━━━━━━━━\u001b[0m\u001b[37m\u001b[0m \u001b[1m0s\u001b[0m 71ms/step - accuracy: 0.8459 - loss: 0.3439 - val_accuracy: 0.9500 - val_loss: 0.2506\n",
            "Epoch 99/100\n",
            "\u001b[1m3/3\u001b[0m \u001b[32m━━━━━━━━━━━━━━━━━━━━\u001b[0m\u001b[37m\u001b[0m \u001b[1m0s\u001b[0m 65ms/step - accuracy: 0.8342 - loss: 0.3427 - val_accuracy: 0.9500 - val_loss: 0.2493\n",
            "Epoch 100/100\n",
            "\u001b[1m3/3\u001b[0m \u001b[32m━━━━━━━━━━━━━━━━━━━━\u001b[0m\u001b[37m\u001b[0m \u001b[1m0s\u001b[0m 68ms/step - accuracy: 0.8381 - loss: 0.3327 - val_accuracy: 0.9500 - val_loss: 0.2497\n"
          ]
        }
      ]
    },
    {
      "cell_type": "code",
      "source": [
        "model.get_weights()\n",
        "#Observe the weight values have been changed significantly"
      ],
      "metadata": {
        "colab": {
          "base_uri": "https://localhost:8080/"
        },
        "id": "UsQTFeej969W",
        "outputId": "8ca39062-a766-4f3f-cf80-9b73646babb0"
      },
      "execution_count": 16,
      "outputs": [
        {
          "output_type": "execute_result",
          "data": {
            "text/plain": [
              "[array([[-0.04551518, -0.49753505, -0.3683973 ,  0.30065817,  1.4573867 ,\n",
              "          0.44808087,  0.354983  , -2.0527005 , -0.06077893, -0.12586069],\n",
              "        [ 1.5054147 , -0.5177473 ,  0.6862286 , -0.62376213, -1.1755064 ,\n",
              "         -0.35777703, -0.35560256,  0.5337723 , -1.1018058 ,  0.58616185]],\n",
              "       dtype=float32),\n",
              " array([-0.01209359, -0.09993885,  0.0436844 , -0.00051115, -0.16985115,\n",
              "         0.00870587,  0.09539448,  0.26767635, -0.01260054,  0.00811075],\n",
              "       dtype=float32),\n",
              " array([[ 0.0626472 ,  0.44711357,  0.1468724 ,  0.05973608, -0.01157931,\n",
              "          0.13667388,  0.16019832,  0.44234502, -0.4154355 , -0.13246967],\n",
              "        [-0.40363148, -0.01599044,  0.13739946,  0.05553249, -0.02456772,\n",
              "         -0.05042674,  0.6354175 ,  0.30090553, -0.16273491,  0.40234688],\n",
              "        [-0.10199954, -0.02219014,  0.5408525 ,  0.37517035,  0.01530581,\n",
              "          0.05006156, -0.5427496 ,  0.2611843 , -0.2981751 , -0.28828746],\n",
              "        [ 0.2980091 ,  0.15707469, -0.18720365, -0.09797638,  0.36176094,\n",
              "          0.5539628 ,  0.0979767 , -0.5584389 ,  0.13140917,  0.17712921],\n",
              "        [ 0.181314  , -0.4169771 ,  0.8144129 ,  0.45335597, -0.2378388 ,\n",
              "         -0.01397799, -0.0721986 , -0.12162647,  0.1385685 ,  0.10213218],\n",
              "        [-0.02297358,  0.4584061 , -0.6808076 , -0.40284637, -0.20686878,\n",
              "          0.26057374, -0.5053452 , -0.11505472,  0.25458887,  0.16897142],\n",
              "        [-0.08861698,  0.18713766, -0.5761386 , -0.48502022,  0.17065154,\n",
              "         -0.43643287, -0.092661  , -0.04889365, -0.06363181, -0.21836163],\n",
              "        [-0.0050048 ,  0.11219095, -0.42619276,  0.38382164,  0.13044308,\n",
              "          0.33265895,  0.01212676, -0.39349744,  0.00191436,  0.3510181 ],\n",
              "        [ 0.4875558 ,  0.2717355 ,  0.16392247,  0.06258886,  0.5112397 ,\n",
              "          0.22648302,  0.45044935,  0.48233494, -0.22194062,  0.14646782],\n",
              "        [ 0.10304235,  0.15518273,  0.02510287,  0.00658858, -0.3212388 ,\n",
              "         -0.31222028, -0.1398946 ,  0.23231399, -0.2213046 , -0.05520781]],\n",
              "       dtype=float32),\n",
              " array([ 0.00197666,  0.0668545 , -0.02706403,  0.0027141 ,  0.03004685,\n",
              "         0.04965277, -0.05878315, -0.01815013, -0.0852455 , -0.08291268],\n",
              "       dtype=float32),\n",
              " array([[-0.0097416 ,  0.0990385 , -0.45608976, -0.1494143 ,  0.29890618,\n",
              "          0.13365975, -1.01973   , -0.26699898,  0.35639042, -0.8100096 ],\n",
              "        [-0.16799167,  0.17329231, -0.00758182,  0.04859227, -0.3070197 ,\n",
              "          0.20888259, -0.11242375,  0.46832222,  0.26230145,  0.21646193],\n",
              "        [ 0.29240528,  0.00419418, -0.269176  ,  0.455023  ,  0.36268088,\n",
              "          0.04363878,  0.56887096,  0.10798109,  0.0693966 , -0.02381125],\n",
              "        [ 0.11538353, -0.3289069 ,  0.03466296, -0.08766308,  0.35527238,\n",
              "          0.06355809,  0.48196533,  0.39096245, -0.06137296,  0.12079149],\n",
              "        [ 0.43552595, -0.02132866, -0.2681177 , -0.64385027,  0.545465  ,\n",
              "          0.5032452 , -0.51310706,  0.08389651, -0.02522782, -0.06335599],\n",
              "        [ 0.2768135 , -0.03705393,  0.21796411, -0.6773225 ,  0.3224185 ,\n",
              "         -0.53338236, -0.00925876,  0.24498795,  0.61096984,  0.12169499],\n",
              "        [ 0.49522036, -0.05880211,  0.00869781,  0.2993209 , -0.73191035,\n",
              "          0.11189165,  0.28275076, -0.22502542,  0.11227936,  0.00836452],\n",
              "        [ 0.03280328, -0.1711229 , -0.36059546,  0.48948327,  1.3827659 ,\n",
              "          0.2829226 , -0.00943603,  0.31732523, -0.73208296,  0.71272814],\n",
              "        [-0.14575832, -0.12809877, -0.16672231,  0.04400413, -0.13753286,\n",
              "         -0.7375358 , -0.04167879, -0.52227587,  0.22473949,  0.11587364],\n",
              "        [-0.13811605, -0.696646  , -0.12565367,  0.21156716, -0.38577634,\n",
              "         -0.51223034, -0.70848167, -0.6042824 , -0.17208913,  0.966279  ]],\n",
              "       dtype=float32),\n",
              " array([-0.00171145,  0.04887114, -0.01676291, -0.05886844, -0.01856562,\n",
              "         0.0144498 ,  0.01829853,  0.05481512, -0.0205923 , -0.02329288],\n",
              "       dtype=float32),\n",
              " array([[ 0.15721534,  0.17225115,  0.12157057,  0.07262306, -0.22568698,\n",
              "         -0.06213864, -0.25891924, -0.13933328,  0.18592845,  0.16785042],\n",
              "        [ 0.636238  , -0.74807864,  0.05005608,  0.3551115 , -0.27697954,\n",
              "         -0.29516312, -0.05339163, -0.01899956,  0.71752083,  0.11375885],\n",
              "        [-0.02171127, -0.11806178, -0.29178756,  0.08111365, -0.10518906,\n",
              "          0.29122227, -0.01429391,  0.07938869,  0.13260716,  0.02804552],\n",
              "        [ 0.08164096,  0.27657533,  0.20830679,  0.05673352,  0.19441469,\n",
              "          0.3306689 , -0.1079653 , -1.0313451 , -0.5312586 , -0.07505345],\n",
              "        [ 0.02515271,  0.13653328, -0.2661258 , -0.43536457, -0.4109384 ,\n",
              "          0.4310456 , -0.70427716, -0.45596546,  0.16628456,  0.03223737],\n",
              "        [-0.65574354,  0.30132788,  0.25175536, -0.542788  ,  0.2680806 ,\n",
              "         -0.38525447, -0.03469865,  0.12776847, -0.10323793, -0.16842814],\n",
              "        [ 0.11575475, -0.03617039, -0.17614038,  0.06254577,  0.6449298 ,\n",
              "          0.00493189, -0.2181539 , -0.34897757, -0.36811888,  0.34444758],\n",
              "        [-0.2898417 , -0.33291805,  0.6800026 , -0.22046995,  0.06378566,\n",
              "         -0.14818068, -0.18482018,  0.27128556, -0.11976089,  0.29690358],\n",
              "        [ 0.0338304 ,  0.27293518, -0.13307196,  0.31721073,  0.1716349 ,\n",
              "         -0.30333653, -0.1552715 ,  0.59539074,  0.0990269 , -0.44791472],\n",
              "        [-0.13570641,  0.19426267, -0.09324262,  0.07925304, -0.37910348,\n",
              "          0.40585643, -0.26576167, -0.12510231, -0.28180057,  0.11478399]],\n",
              "       dtype=float32),\n",
              " array([ 0.01073859, -0.03180468,  0.00648619, -0.01509212, -0.00142475,\n",
              "         0.01950955, -0.02951415,  0.01145002, -0.01219088,  0.02342468],\n",
              "       dtype=float32),\n",
              " array([[-0.16326974],\n",
              "        [-0.04898853],\n",
              "        [-0.5258676 ],\n",
              "        [ 1.0497754 ],\n",
              "        [-0.57357967],\n",
              "        [-0.13937914],\n",
              "        [ 0.7199986 ],\n",
              "        [ 0.60840136],\n",
              "        [ 0.52062595],\n",
              "        [-0.64382887]], dtype=float32),\n",
              " array([-0.00364455], dtype=float32)]"
            ]
          },
          "metadata": {},
          "execution_count": 16
        }
      ]
    },
    {
      "cell_type": "code",
      "source": [
        "#Plot the boundary region\n",
        "from mlxtend.plotting import plot_decision_regions\n",
        "plot_decision_regions(x,y.astype('int'),clf=model,legend=2)"
      ],
      "metadata": {
        "colab": {
          "base_uri": "https://localhost:8080/",
          "height": 465
        },
        "id": "pQGF-V9N-EKY",
        "outputId": "204a3cce-5687-48f1-9ab5-1fd91afe5226"
      },
      "execution_count": 17,
      "outputs": [
        {
          "output_type": "stream",
          "name": "stdout",
          "text": [
            "\u001b[1m9600/9600\u001b[0m \u001b[32m━━━━━━━━━━━━━━━━━━━━\u001b[0m\u001b[37m\u001b[0m \u001b[1m14s\u001b[0m 1ms/step\n"
          ]
        },
        {
          "output_type": "execute_result",
          "data": {
            "text/plain": [
              "<Axes: >"
            ]
          },
          "metadata": {},
          "execution_count": 17
        },
        {
          "output_type": "display_data",
          "data": {
            "text/plain": [
              "<Figure size 640x480 with 1 Axes>"
            ],
            "image/png": "[encoded data removed]"
          },
          "metadata": {}
        }
      ]
    },
    {
      "cell_type": "markdown",
      "source": [
        "Here observe that we got somewhat better result. We dont see any kind of overfitting in this model.It is better capturing the non-linearity in the data and hopefully it will work better on unseen data."
      ],
      "metadata": {
        "id": "c0JH0Wxe-oad"
      }
    },
    {
      "cell_type": "markdown",
      "source": [
        "**He Normal Weight Initialization Technique-**\n",
        "\n",
        "He normal technique of weight initialization is used in case of relu activation function.\n",
        "\n",
        "Formula for He normal is as follows-\n",
        "\n",
        "under root of (2/fan_in) where fan_in is the number of inputs coming in the node."
      ],
      "metadata": {
        "id": "XmPXMx6UInyY"
      }
    },
    {
      "cell_type": "markdown",
      "source": [
        "**Xavier/Glorat Uniform Distribution formula-**\n",
        "\n",
        "![1.jpg](data:image/jpeg;base64,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)"
      ],
      "metadata": {
        "id": "ReCFROEWJHvx"
      }
    },
    {
      "cell_type": "markdown",
      "source": [
        "**He Uniform Formula-**\n",
        "\n",
        "![1.jpg](data:image/jpeg;base64,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)\n"
      ],
      "metadata": {
        "id": "zybbVp9TJmIh"
      }
    }
  ]
}