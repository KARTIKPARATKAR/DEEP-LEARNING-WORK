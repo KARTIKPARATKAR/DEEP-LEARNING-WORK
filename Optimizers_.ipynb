{
  "nbformat": 4,
  "nbformat_minor": 0,
  "metadata": {
    "colab": {
      "provenance": [],
      "gpuType": "T4",
      "include_colab_link": true
    },
    "kernelspec": {
      "name": "python3",
      "display_name": "Python 3"
    },
    "language_info": {
      "name": "python"
    },
    "accelerator": "GPU"
  },
  "cells": [
    {
      "cell_type": "markdown",
      "metadata": {
        "id": "view-in-github",
        "colab_type": "text"
      },
      "source": [
        "<a href=\"https://colab.research.google.com/github/KARTIKPARATKAR/DEEP-LEARNING-WORK/blob/main/Optimizers_.ipynb\" target=\"_parent\"><img src=\"https://colab.research.google.com/assets/colab-badge.svg\" alt=\"Open In Colab\"/></a>"
      ]
    },
    {
      "cell_type": "markdown",
      "source": [
        "**Optimizers-**\n",
        "\n",
        "Whenever we work on neural network, we always on hunt to train the model fast and get the better performance. For that we can properly initilize the weight,we can implement the batch normalization and we can use proper activation function. Apart from these, we can use proper optimizers to speed up the training of neural network."
      ],
      "metadata": {
        "id": "AfC4eo5LNvNL"
      }
    },
    {
      "cell_type": "markdown",
      "source": [
        "**Role Of Optimizers:**\n",
        "\n",
        "When we are dealing with neural network, we want our loss to be minimum which means the difference between actual value and the predicted value by model should be minimum.So to achieve the minimum loss function, whatever the weight and bias value will be our optimum value of parameter. To do this , we initilize the random weight and bias values and update these weight and bias values with the help of backpropogation algorithm untill we reach the minimum loss function value.\n",
        "\n",
        "The  optimizer we use in deep learning is Gradient Descent. In Gradient Descent , we use update rule to update the weight and bias values and move towards the minimum loss function value as follows:\n",
        "\n",
        "![1.jpg](data:image/jpeg;base64,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)\n",
        "\n",
        "We have 1)Batch GD , 2)Stochastic GD , 3)Mini-Batch GD are three types of Gradient Descent(GD) . These are nothing but the three types of optimizers only.\n",
        "\n",
        "\n"
      ],
      "metadata": {
        "id": "K3NgJ0q9OgOq"
      }
    },
    {
      "cell_type": "markdown",
      "source": [
        "**Challanges in Using Gradient Descent as the Optimizers-**\n",
        "\n",
        "**1)Hard To decide Learning Rate Value-**\n",
        "\n",
        "How to decide the true value of learning rate? It is very difficult to decide what learning rate value should we keep for a perticular dataset and perticular neural network model.This is the challange in using gradient descent as the optimizer.\n",
        "\n",
        " When we update the parameter value, there is a learning rate term there in formula.\n",
        "\n",
        " wn = wo - (learnining rate)del(L)/del(wo)\n",
        "\n",
        " If we keep low value of learing rate then the convergence towards minima of loss function will be very slow and if we keep the learning rate high then training will be unstable and you may jump out of the region of minimum loss .\n",
        "\n",
        "\n",
        "**2)Learning Rate Scheduling-**\n",
        "\n",
        "We change the learning rate value or we reduce the learning rate value according to the achievement of the predefined schedule. Whatever schedule we define all these are predefined which means we have to define it before training of the model.So different datasets requires different types of schedule of learing rate.So it is challanging to obtain better result on different dataset with same predefined learning rate strategy.\n",
        "\n",
        "**3)Finding optimum values of multiple weights:**\n",
        "\n",
        "If there are 9 weight and biases,so there will be 10D graph through which you have to traverse and find out the optimum values of 9 weights values.There will be 10 directions towards which you can traverse.For different weight values,we can not set different learning rate value, and this is not feasible because in some case our requirement would be to go faster means learning rate high and in some case our requirement would be to go slower means learning rate slow.This setting of different learning rate facility gradient descent doesnt provide.\n",
        "In worst case I might require 9 different learning rate for all 9 different weight values to obtain a minimum loss function.\n",
        "\n",
        "**4)Local Minima Problem-**\n",
        "\n",
        "Our best solution is global minima of loss function. The problem is we might get stuck in local minima in case of Gradient Descent.So if we get stuck,we wont reach to the global minima which was our aim .\n",
        "\n",
        "\n",
        "**5)Saddle Point-**\n",
        "\n",
        "It is a point in the loss function where the gradient is zero.But is is not the local minimum of loss function which we are trying to find. If gradient is zero then there would be no updation according to the backpropogation algorithm and our training would not happen in the first place."
      ],
      "metadata": {
        "id": "X2NXhN3zRMo0"
      }
    },
    {
      "cell_type": "markdown",
      "source": [
        "**So Whats next?**\n",
        "\n",
        "0)Exponentially Weighted Moving Average\n",
        "\n",
        "1)Momentum\n",
        "\n",
        "2)Adagrad\n",
        "\n",
        "3)NAG\n",
        "\n",
        "4)RMSProp\n",
        "\n",
        "5)Adam"
      ],
      "metadata": {
        "id": "i-iBi6Z5v_eE"
      }
    }
  ]
}